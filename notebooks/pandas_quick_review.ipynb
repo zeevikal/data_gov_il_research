{
 "cells": [
  {
   "cell_type": "code",
   "execution_count": 2,
   "metadata": {
    "ExecuteTime": {
     "end_time": "2018-11-19T15:20:03.614478Z",
     "start_time": "2018-11-19T15:20:02.895362Z"
    }
   },
   "outputs": [],
   "source": [
    "import numpy as np\n",
    "import pandas as pd\n",
    "import matplotlib.pyplot as plt"
   ]
  },
  {
   "cell_type": "markdown",
   "metadata": {},
   "source": [
    "#### pd.Series"
   ]
  },
  {
   "cell_type": "code",
   "execution_count": 5,
   "metadata": {
    "ExecuteTime": {
     "end_time": "2018-11-19T12:01:00.352444Z",
     "start_time": "2018-11-19T12:01:00.347636Z"
    }
   },
   "outputs": [
    {
     "data": {
      "text/plain": [
       "0    1.0\n",
       "1    2.0\n",
       "2    3.0\n",
       "3    4.0\n",
       "4    NaN\n",
       "5    6.0\n",
       "dtype: float64"
      ]
     },
     "execution_count": 5,
     "metadata": {},
     "output_type": "execute_result"
    }
   ],
   "source": [
    "s = pd.Series([1, 2, 3, 4, np.nan, 6])\n",
    "s"
   ]
  },
  {
   "cell_type": "markdown",
   "metadata": {},
   "source": [
    "#### pd.DataFrame"
   ]
  },
  {
   "cell_type": "code",
   "execution_count": 4,
   "metadata": {
    "ExecuteTime": {
     "end_time": "2018-11-19T12:00:52.241055Z",
     "start_time": "2018-11-19T12:00:52.235849Z"
    }
   },
   "outputs": [
    {
     "data": {
      "text/plain": [
       "DatetimeIndex(['2018-11-19', '2018-11-20', '2018-11-21', '2018-11-22',\n",
       "               '2018-11-23', '2018-11-24', '2018-11-25'],\n",
       "              dtype='datetime64[ns]', freq='D')"
      ]
     },
     "execution_count": 4,
     "metadata": {},
     "output_type": "execute_result"
    }
   ],
   "source": [
    "dates = pd.date_range('20181119', periods=7)\n",
    "dates"
   ]
  },
  {
   "cell_type": "code",
   "execution_count": 12,
   "metadata": {
    "ExecuteTime": {
     "end_time": "2018-11-19T12:02:28.077914Z",
     "start_time": "2018-11-19T12:02:28.065814Z"
    }
   },
   "outputs": [
    {
     "data": {
      "text/html": [
       "<div>\n",
       "<style scoped>\n",
       "    .dataframe tbody tr th:only-of-type {\n",
       "        vertical-align: middle;\n",
       "    }\n",
       "\n",
       "    .dataframe tbody tr th {\n",
       "        vertical-align: top;\n",
       "    }\n",
       "\n",
       "    .dataframe thead th {\n",
       "        text-align: right;\n",
       "    }\n",
       "</style>\n",
       "<table border=\"1\" class=\"dataframe\">\n",
       "  <thead>\n",
       "    <tr style=\"text-align: right;\">\n",
       "      <th></th>\n",
       "      <th>A</th>\n",
       "      <th>B</th>\n",
       "      <th>C</th>\n",
       "      <th>D</th>\n",
       "    </tr>\n",
       "  </thead>\n",
       "  <tbody>\n",
       "    <tr>\n",
       "      <th>2018-11-19</th>\n",
       "      <td>-0.314492</td>\n",
       "      <td>0.037545</td>\n",
       "      <td>0.099808</td>\n",
       "      <td>-1.307579</td>\n",
       "    </tr>\n",
       "    <tr>\n",
       "      <th>2018-11-20</th>\n",
       "      <td>-0.224633</td>\n",
       "      <td>0.534234</td>\n",
       "      <td>1.660768</td>\n",
       "      <td>0.378448</td>\n",
       "    </tr>\n",
       "    <tr>\n",
       "      <th>2018-11-21</th>\n",
       "      <td>-1.745772</td>\n",
       "      <td>1.174089</td>\n",
       "      <td>0.665705</td>\n",
       "      <td>0.070575</td>\n",
       "    </tr>\n",
       "    <tr>\n",
       "      <th>2018-11-22</th>\n",
       "      <td>0.950198</td>\n",
       "      <td>1.249518</td>\n",
       "      <td>-0.536279</td>\n",
       "      <td>1.313715</td>\n",
       "    </tr>\n",
       "    <tr>\n",
       "      <th>2018-11-23</th>\n",
       "      <td>-1.040722</td>\n",
       "      <td>-1.666559</td>\n",
       "      <td>-0.276477</td>\n",
       "      <td>0.698090</td>\n",
       "    </tr>\n",
       "    <tr>\n",
       "      <th>2018-11-24</th>\n",
       "      <td>1.541927</td>\n",
       "      <td>-0.115470</td>\n",
       "      <td>-0.223904</td>\n",
       "      <td>-0.067986</td>\n",
       "    </tr>\n",
       "    <tr>\n",
       "      <th>2018-11-25</th>\n",
       "      <td>-1.046223</td>\n",
       "      <td>0.254216</td>\n",
       "      <td>-1.792357</td>\n",
       "      <td>1.688291</td>\n",
       "    </tr>\n",
       "  </tbody>\n",
       "</table>\n",
       "</div>"
      ],
      "text/plain": [
       "                   A         B         C         D\n",
       "2018-11-19 -0.314492  0.037545  0.099808 -1.307579\n",
       "2018-11-20 -0.224633  0.534234  1.660768  0.378448\n",
       "2018-11-21 -1.745772  1.174089  0.665705  0.070575\n",
       "2018-11-22  0.950198  1.249518 -0.536279  1.313715\n",
       "2018-11-23 -1.040722 -1.666559 -0.276477  0.698090\n",
       "2018-11-24  1.541927 -0.115470 -0.223904 -0.067986\n",
       "2018-11-25 -1.046223  0.254216 -1.792357  1.688291"
      ]
     },
     "execution_count": 12,
     "metadata": {},
     "output_type": "execute_result"
    }
   ],
   "source": [
    "df = pd.DataFrame(np.random.randn(7, 4), index=dates, columns=list('ABCD'))\n",
    "df"
   ]
  },
  {
   "cell_type": "code",
   "execution_count": 17,
   "metadata": {
    "ExecuteTime": {
     "end_time": "2018-11-19T12:07:10.656266Z",
     "start_time": "2018-11-19T12:07:10.640712Z"
    }
   },
   "outputs": [
    {
     "data": {
      "text/html": [
       "<div>\n",
       "<style scoped>\n",
       "    .dataframe tbody tr th:only-of-type {\n",
       "        vertical-align: middle;\n",
       "    }\n",
       "\n",
       "    .dataframe tbody tr th {\n",
       "        vertical-align: top;\n",
       "    }\n",
       "\n",
       "    .dataframe thead th {\n",
       "        text-align: right;\n",
       "    }\n",
       "</style>\n",
       "<table border=\"1\" class=\"dataframe\">\n",
       "  <thead>\n",
       "    <tr style=\"text-align: right;\">\n",
       "      <th></th>\n",
       "      <th>A</th>\n",
       "      <th>B</th>\n",
       "      <th>C</th>\n",
       "      <th>D</th>\n",
       "      <th>E</th>\n",
       "      <th>F</th>\n",
       "    </tr>\n",
       "  </thead>\n",
       "  <tbody>\n",
       "    <tr>\n",
       "      <th>0</th>\n",
       "      <td>24.0</td>\n",
       "      <td>2018-11-19</td>\n",
       "      <td>1.0</td>\n",
       "      <td>4</td>\n",
       "      <td>train</td>\n",
       "      <td>abcdef</td>\n",
       "    </tr>\n",
       "    <tr>\n",
       "      <th>1</th>\n",
       "      <td>24.0</td>\n",
       "      <td>2018-11-19</td>\n",
       "      <td>1.0</td>\n",
       "      <td>4</td>\n",
       "      <td>test</td>\n",
       "      <td>abcdef</td>\n",
       "    </tr>\n",
       "    <tr>\n",
       "      <th>2</th>\n",
       "      <td>24.0</td>\n",
       "      <td>2018-11-19</td>\n",
       "      <td>1.0</td>\n",
       "      <td>4</td>\n",
       "      <td>val</td>\n",
       "      <td>abcdef</td>\n",
       "    </tr>\n",
       "    <tr>\n",
       "      <th>3</th>\n",
       "      <td>24.0</td>\n",
       "      <td>2018-11-19</td>\n",
       "      <td>1.0</td>\n",
       "      <td>4</td>\n",
       "      <td>pred</td>\n",
       "      <td>abcdef</td>\n",
       "    </tr>\n",
       "  </tbody>\n",
       "</table>\n",
       "</div>"
      ],
      "text/plain": [
       "      A          B    C  D      E       F\n",
       "0  24.0 2018-11-19  1.0  4  train  abcdef\n",
       "1  24.0 2018-11-19  1.0  4   test  abcdef\n",
       "2  24.0 2018-11-19  1.0  4    val  abcdef\n",
       "3  24.0 2018-11-19  1.0  4   pred  abcdef"
      ]
     },
     "execution_count": 17,
     "metadata": {},
     "output_type": "execute_result"
    }
   ],
   "source": [
    "df_2 = pd.DataFrame({\n",
    "    'A': 24.,\n",
    "    'B': pd.Timestamp('20181119'),\n",
    "    'C': pd.Series(1, index=list(range(4)), dtype='float32'),\n",
    "    'D': np.array([4] * 4, dtype='int32'),\n",
    "    'E': pd.Categorical(['train', 'test', 'val', 'pred']),\n",
    "    'F': 'abcdef'\n",
    "})\n",
    "df_2"
   ]
  },
  {
   "cell_type": "code",
   "execution_count": 18,
   "metadata": {
    "ExecuteTime": {
     "end_time": "2018-11-19T12:07:22.626965Z",
     "start_time": "2018-11-19T12:07:22.621364Z"
    }
   },
   "outputs": [
    {
     "data": {
      "text/plain": [
       "A           float64\n",
       "B    datetime64[ns]\n",
       "C           float32\n",
       "D             int32\n",
       "E          category\n",
       "F            object\n",
       "dtype: object"
      ]
     },
     "execution_count": 18,
     "metadata": {},
     "output_type": "execute_result"
    }
   ],
   "source": [
    "df_2.dtypes"
   ]
  },
  {
   "cell_type": "markdown",
   "metadata": {},
   "source": [
    "#### visualization"
   ]
  },
  {
   "cell_type": "code",
   "execution_count": 19,
   "metadata": {
    "ExecuteTime": {
     "end_time": "2018-11-19T12:07:54.407171Z",
     "start_time": "2018-11-19T12:07:54.391090Z"
    }
   },
   "outputs": [
    {
     "data": {
      "text/html": [
       "<div>\n",
       "<style scoped>\n",
       "    .dataframe tbody tr th:only-of-type {\n",
       "        vertical-align: middle;\n",
       "    }\n",
       "\n",
       "    .dataframe tbody tr th {\n",
       "        vertical-align: top;\n",
       "    }\n",
       "\n",
       "    .dataframe thead th {\n",
       "        text-align: right;\n",
       "    }\n",
       "</style>\n",
       "<table border=\"1\" class=\"dataframe\">\n",
       "  <thead>\n",
       "    <tr style=\"text-align: right;\">\n",
       "      <th></th>\n",
       "      <th>A</th>\n",
       "      <th>B</th>\n",
       "      <th>C</th>\n",
       "      <th>D</th>\n",
       "    </tr>\n",
       "  </thead>\n",
       "  <tbody>\n",
       "    <tr>\n",
       "      <th>2018-11-19</th>\n",
       "      <td>-0.314492</td>\n",
       "      <td>0.037545</td>\n",
       "      <td>0.099808</td>\n",
       "      <td>-1.307579</td>\n",
       "    </tr>\n",
       "    <tr>\n",
       "      <th>2018-11-20</th>\n",
       "      <td>-0.224633</td>\n",
       "      <td>0.534234</td>\n",
       "      <td>1.660768</td>\n",
       "      <td>0.378448</td>\n",
       "    </tr>\n",
       "    <tr>\n",
       "      <th>2018-11-21</th>\n",
       "      <td>-1.745772</td>\n",
       "      <td>1.174089</td>\n",
       "      <td>0.665705</td>\n",
       "      <td>0.070575</td>\n",
       "    </tr>\n",
       "    <tr>\n",
       "      <th>2018-11-22</th>\n",
       "      <td>0.950198</td>\n",
       "      <td>1.249518</td>\n",
       "      <td>-0.536279</td>\n",
       "      <td>1.313715</td>\n",
       "    </tr>\n",
       "    <tr>\n",
       "      <th>2018-11-23</th>\n",
       "      <td>-1.040722</td>\n",
       "      <td>-1.666559</td>\n",
       "      <td>-0.276477</td>\n",
       "      <td>0.698090</td>\n",
       "    </tr>\n",
       "  </tbody>\n",
       "</table>\n",
       "</div>"
      ],
      "text/plain": [
       "                   A         B         C         D\n",
       "2018-11-19 -0.314492  0.037545  0.099808 -1.307579\n",
       "2018-11-20 -0.224633  0.534234  1.660768  0.378448\n",
       "2018-11-21 -1.745772  1.174089  0.665705  0.070575\n",
       "2018-11-22  0.950198  1.249518 -0.536279  1.313715\n",
       "2018-11-23 -1.040722 -1.666559 -0.276477  0.698090"
      ]
     },
     "execution_count": 19,
     "metadata": {},
     "output_type": "execute_result"
    }
   ],
   "source": [
    "df.head()"
   ]
  },
  {
   "cell_type": "code",
   "execution_count": 21,
   "metadata": {
    "ExecuteTime": {
     "end_time": "2018-11-19T12:08:07.709377Z",
     "start_time": "2018-11-19T12:08:07.700165Z"
    }
   },
   "outputs": [
    {
     "data": {
      "text/html": [
       "<div>\n",
       "<style scoped>\n",
       "    .dataframe tbody tr th:only-of-type {\n",
       "        vertical-align: middle;\n",
       "    }\n",
       "\n",
       "    .dataframe tbody tr th {\n",
       "        vertical-align: top;\n",
       "    }\n",
       "\n",
       "    .dataframe thead th {\n",
       "        text-align: right;\n",
       "    }\n",
       "</style>\n",
       "<table border=\"1\" class=\"dataframe\">\n",
       "  <thead>\n",
       "    <tr style=\"text-align: right;\">\n",
       "      <th></th>\n",
       "      <th>A</th>\n",
       "      <th>B</th>\n",
       "      <th>C</th>\n",
       "      <th>D</th>\n",
       "    </tr>\n",
       "  </thead>\n",
       "  <tbody>\n",
       "    <tr>\n",
       "      <th>2018-11-24</th>\n",
       "      <td>1.541927</td>\n",
       "      <td>-0.115470</td>\n",
       "      <td>-0.223904</td>\n",
       "      <td>-0.067986</td>\n",
       "    </tr>\n",
       "    <tr>\n",
       "      <th>2018-11-25</th>\n",
       "      <td>-1.046223</td>\n",
       "      <td>0.254216</td>\n",
       "      <td>-1.792357</td>\n",
       "      <td>1.688291</td>\n",
       "    </tr>\n",
       "  </tbody>\n",
       "</table>\n",
       "</div>"
      ],
      "text/plain": [
       "                   A         B         C         D\n",
       "2018-11-24  1.541927 -0.115470 -0.223904 -0.067986\n",
       "2018-11-25 -1.046223  0.254216 -1.792357  1.688291"
      ]
     },
     "execution_count": 21,
     "metadata": {},
     "output_type": "execute_result"
    }
   ],
   "source": [
    "df.tail(2)"
   ]
  },
  {
   "cell_type": "code",
   "execution_count": 22,
   "metadata": {
    "ExecuteTime": {
     "end_time": "2018-11-19T12:08:16.366398Z",
     "start_time": "2018-11-19T12:08:16.361904Z"
    }
   },
   "outputs": [
    {
     "data": {
      "text/plain": [
       "DatetimeIndex(['2018-11-19', '2018-11-20', '2018-11-21', '2018-11-22',\n",
       "               '2018-11-23', '2018-11-24', '2018-11-25'],\n",
       "              dtype='datetime64[ns]', freq='D')"
      ]
     },
     "execution_count": 22,
     "metadata": {},
     "output_type": "execute_result"
    }
   ],
   "source": [
    "df.index"
   ]
  },
  {
   "cell_type": "code",
   "execution_count": 23,
   "metadata": {
    "ExecuteTime": {
     "end_time": "2018-11-19T12:08:19.741992Z",
     "start_time": "2018-11-19T12:08:19.737131Z"
    }
   },
   "outputs": [
    {
     "data": {
      "text/plain": [
       "Index(['A', 'B', 'C', 'D'], dtype='object')"
      ]
     },
     "execution_count": 23,
     "metadata": {},
     "output_type": "execute_result"
    }
   ],
   "source": [
    "df.columns"
   ]
  },
  {
   "cell_type": "code",
   "execution_count": 24,
   "metadata": {
    "ExecuteTime": {
     "end_time": "2018-11-19T12:08:21.790423Z",
     "start_time": "2018-11-19T12:08:21.784831Z"
    }
   },
   "outputs": [
    {
     "data": {
      "text/plain": [
       "array([[-0.31449173,  0.03754491,  0.09980773, -1.30757917],\n",
       "       [-0.22463325,  0.5342341 ,  1.66076848,  0.37844825],\n",
       "       [-1.74577173,  1.17408932,  0.66570498,  0.07057522],\n",
       "       [ 0.95019827,  1.24951848, -0.53627863,  1.31371497],\n",
       "       [-1.0407219 , -1.66655943, -0.27647707,  0.69808974],\n",
       "       [ 1.54192705, -0.11547029, -0.22390424, -0.06798626],\n",
       "       [-1.04622252,  0.25421631, -1.79235668,  1.68829065]])"
      ]
     },
     "execution_count": 24,
     "metadata": {},
     "output_type": "execute_result"
    }
   ],
   "source": [
    "df.values"
   ]
  },
  {
   "cell_type": "code",
   "execution_count": 26,
   "metadata": {
    "ExecuteTime": {
     "end_time": "2018-11-19T12:08:37.281179Z",
     "start_time": "2018-11-19T12:08:37.242187Z"
    }
   },
   "outputs": [
    {
     "data": {
      "text/html": [
       "<div>\n",
       "<style scoped>\n",
       "    .dataframe tbody tr th:only-of-type {\n",
       "        vertical-align: middle;\n",
       "    }\n",
       "\n",
       "    .dataframe tbody tr th {\n",
       "        vertical-align: top;\n",
       "    }\n",
       "\n",
       "    .dataframe thead th {\n",
       "        text-align: right;\n",
       "    }\n",
       "</style>\n",
       "<table border=\"1\" class=\"dataframe\">\n",
       "  <thead>\n",
       "    <tr style=\"text-align: right;\">\n",
       "      <th></th>\n",
       "      <th>A</th>\n",
       "      <th>B</th>\n",
       "      <th>C</th>\n",
       "      <th>D</th>\n",
       "    </tr>\n",
       "  </thead>\n",
       "  <tbody>\n",
       "    <tr>\n",
       "      <th>count</th>\n",
       "      <td>7.000000</td>\n",
       "      <td>7.000000</td>\n",
       "      <td>7.000000</td>\n",
       "      <td>7.000000</td>\n",
       "    </tr>\n",
       "    <tr>\n",
       "      <th>mean</th>\n",
       "      <td>-0.268531</td>\n",
       "      <td>0.209653</td>\n",
       "      <td>-0.057534</td>\n",
       "      <td>0.396222</td>\n",
       "    </tr>\n",
       "    <tr>\n",
       "      <th>std</th>\n",
       "      <td>1.165506</td>\n",
       "      <td>0.981011</td>\n",
       "      <td>1.065740</td>\n",
       "      <td>0.985490</td>\n",
       "    </tr>\n",
       "    <tr>\n",
       "      <th>min</th>\n",
       "      <td>-1.745772</td>\n",
       "      <td>-1.666559</td>\n",
       "      <td>-1.792357</td>\n",
       "      <td>-1.307579</td>\n",
       "    </tr>\n",
       "    <tr>\n",
       "      <th>25%</th>\n",
       "      <td>-1.043472</td>\n",
       "      <td>-0.038963</td>\n",
       "      <td>-0.406378</td>\n",
       "      <td>0.001294</td>\n",
       "    </tr>\n",
       "    <tr>\n",
       "      <th>50%</th>\n",
       "      <td>-0.314492</td>\n",
       "      <td>0.254216</td>\n",
       "      <td>-0.223904</td>\n",
       "      <td>0.378448</td>\n",
       "    </tr>\n",
       "    <tr>\n",
       "      <th>75%</th>\n",
       "      <td>0.362783</td>\n",
       "      <td>0.854162</td>\n",
       "      <td>0.382756</td>\n",
       "      <td>1.005902</td>\n",
       "    </tr>\n",
       "    <tr>\n",
       "      <th>max</th>\n",
       "      <td>1.541927</td>\n",
       "      <td>1.249518</td>\n",
       "      <td>1.660768</td>\n",
       "      <td>1.688291</td>\n",
       "    </tr>\n",
       "  </tbody>\n",
       "</table>\n",
       "</div>"
      ],
      "text/plain": [
       "              A         B         C         D\n",
       "count  7.000000  7.000000  7.000000  7.000000\n",
       "mean  -0.268531  0.209653 -0.057534  0.396222\n",
       "std    1.165506  0.981011  1.065740  0.985490\n",
       "min   -1.745772 -1.666559 -1.792357 -1.307579\n",
       "25%   -1.043472 -0.038963 -0.406378  0.001294\n",
       "50%   -0.314492  0.254216 -0.223904  0.378448\n",
       "75%    0.362783  0.854162  0.382756  1.005902\n",
       "max    1.541927  1.249518  1.660768  1.688291"
      ]
     },
     "execution_count": 26,
     "metadata": {},
     "output_type": "execute_result"
    }
   ],
   "source": [
    "df.describe()"
   ]
  },
  {
   "cell_type": "code",
   "execution_count": 27,
   "metadata": {
    "ExecuteTime": {
     "end_time": "2018-11-19T12:08:44.752963Z",
     "start_time": "2018-11-19T12:08:44.724135Z"
    }
   },
   "outputs": [
    {
     "data": {
      "text/html": [
       "<div>\n",
       "<style scoped>\n",
       "    .dataframe tbody tr th:only-of-type {\n",
       "        vertical-align: middle;\n",
       "    }\n",
       "\n",
       "    .dataframe tbody tr th {\n",
       "        vertical-align: top;\n",
       "    }\n",
       "\n",
       "    .dataframe thead th {\n",
       "        text-align: right;\n",
       "    }\n",
       "</style>\n",
       "<table border=\"1\" class=\"dataframe\">\n",
       "  <thead>\n",
       "    <tr style=\"text-align: right;\">\n",
       "      <th></th>\n",
       "      <th>2018-11-19 00:00:00</th>\n",
       "      <th>2018-11-20 00:00:00</th>\n",
       "      <th>2018-11-21 00:00:00</th>\n",
       "      <th>2018-11-22 00:00:00</th>\n",
       "      <th>2018-11-23 00:00:00</th>\n",
       "      <th>2018-11-24 00:00:00</th>\n",
       "      <th>2018-11-25 00:00:00</th>\n",
       "    </tr>\n",
       "  </thead>\n",
       "  <tbody>\n",
       "    <tr>\n",
       "      <th>A</th>\n",
       "      <td>-0.314492</td>\n",
       "      <td>-0.224633</td>\n",
       "      <td>-1.745772</td>\n",
       "      <td>0.950198</td>\n",
       "      <td>-1.040722</td>\n",
       "      <td>1.541927</td>\n",
       "      <td>-1.046223</td>\n",
       "    </tr>\n",
       "    <tr>\n",
       "      <th>B</th>\n",
       "      <td>0.037545</td>\n",
       "      <td>0.534234</td>\n",
       "      <td>1.174089</td>\n",
       "      <td>1.249518</td>\n",
       "      <td>-1.666559</td>\n",
       "      <td>-0.115470</td>\n",
       "      <td>0.254216</td>\n",
       "    </tr>\n",
       "    <tr>\n",
       "      <th>C</th>\n",
       "      <td>0.099808</td>\n",
       "      <td>1.660768</td>\n",
       "      <td>0.665705</td>\n",
       "      <td>-0.536279</td>\n",
       "      <td>-0.276477</td>\n",
       "      <td>-0.223904</td>\n",
       "      <td>-1.792357</td>\n",
       "    </tr>\n",
       "    <tr>\n",
       "      <th>D</th>\n",
       "      <td>-1.307579</td>\n",
       "      <td>0.378448</td>\n",
       "      <td>0.070575</td>\n",
       "      <td>1.313715</td>\n",
       "      <td>0.698090</td>\n",
       "      <td>-0.067986</td>\n",
       "      <td>1.688291</td>\n",
       "    </tr>\n",
       "  </tbody>\n",
       "</table>\n",
       "</div>"
      ],
      "text/plain": [
       "   2018-11-19  2018-11-20  2018-11-21  2018-11-22  2018-11-23  2018-11-24  \\\n",
       "A   -0.314492   -0.224633   -1.745772    0.950198   -1.040722    1.541927   \n",
       "B    0.037545    0.534234    1.174089    1.249518   -1.666559   -0.115470   \n",
       "C    0.099808    1.660768    0.665705   -0.536279   -0.276477   -0.223904   \n",
       "D   -1.307579    0.378448    0.070575    1.313715    0.698090   -0.067986   \n",
       "\n",
       "   2018-11-25  \n",
       "A   -1.046223  \n",
       "B    0.254216  \n",
       "C   -1.792357  \n",
       "D    1.688291  "
      ]
     },
     "execution_count": 27,
     "metadata": {},
     "output_type": "execute_result"
    }
   ],
   "source": [
    "df.T"
   ]
  },
  {
   "cell_type": "code",
   "execution_count": 30,
   "metadata": {
    "ExecuteTime": {
     "end_time": "2018-11-19T12:09:23.869103Z",
     "start_time": "2018-11-19T12:09:23.860243Z"
    }
   },
   "outputs": [
    {
     "data": {
      "text/html": [
       "<div>\n",
       "<style scoped>\n",
       "    .dataframe tbody tr th:only-of-type {\n",
       "        vertical-align: middle;\n",
       "    }\n",
       "\n",
       "    .dataframe tbody tr th {\n",
       "        vertical-align: top;\n",
       "    }\n",
       "\n",
       "    .dataframe thead th {\n",
       "        text-align: right;\n",
       "    }\n",
       "</style>\n",
       "<table border=\"1\" class=\"dataframe\">\n",
       "  <thead>\n",
       "    <tr style=\"text-align: right;\">\n",
       "      <th></th>\n",
       "      <th>D</th>\n",
       "      <th>C</th>\n",
       "      <th>B</th>\n",
       "      <th>A</th>\n",
       "    </tr>\n",
       "  </thead>\n",
       "  <tbody>\n",
       "    <tr>\n",
       "      <th>2018-11-19</th>\n",
       "      <td>-1.307579</td>\n",
       "      <td>0.099808</td>\n",
       "      <td>0.037545</td>\n",
       "      <td>-0.314492</td>\n",
       "    </tr>\n",
       "    <tr>\n",
       "      <th>2018-11-20</th>\n",
       "      <td>0.378448</td>\n",
       "      <td>1.660768</td>\n",
       "      <td>0.534234</td>\n",
       "      <td>-0.224633</td>\n",
       "    </tr>\n",
       "    <tr>\n",
       "      <th>2018-11-21</th>\n",
       "      <td>0.070575</td>\n",
       "      <td>0.665705</td>\n",
       "      <td>1.174089</td>\n",
       "      <td>-1.745772</td>\n",
       "    </tr>\n",
       "    <tr>\n",
       "      <th>2018-11-22</th>\n",
       "      <td>1.313715</td>\n",
       "      <td>-0.536279</td>\n",
       "      <td>1.249518</td>\n",
       "      <td>0.950198</td>\n",
       "    </tr>\n",
       "    <tr>\n",
       "      <th>2018-11-23</th>\n",
       "      <td>0.698090</td>\n",
       "      <td>-0.276477</td>\n",
       "      <td>-1.666559</td>\n",
       "      <td>-1.040722</td>\n",
       "    </tr>\n",
       "    <tr>\n",
       "      <th>2018-11-24</th>\n",
       "      <td>-0.067986</td>\n",
       "      <td>-0.223904</td>\n",
       "      <td>-0.115470</td>\n",
       "      <td>1.541927</td>\n",
       "    </tr>\n",
       "    <tr>\n",
       "      <th>2018-11-25</th>\n",
       "      <td>1.688291</td>\n",
       "      <td>-1.792357</td>\n",
       "      <td>0.254216</td>\n",
       "      <td>-1.046223</td>\n",
       "    </tr>\n",
       "  </tbody>\n",
       "</table>\n",
       "</div>"
      ],
      "text/plain": [
       "                   D         C         B         A\n",
       "2018-11-19 -1.307579  0.099808  0.037545 -0.314492\n",
       "2018-11-20  0.378448  1.660768  0.534234 -0.224633\n",
       "2018-11-21  0.070575  0.665705  1.174089 -1.745772\n",
       "2018-11-22  1.313715 -0.536279  1.249518  0.950198\n",
       "2018-11-23  0.698090 -0.276477 -1.666559 -1.040722\n",
       "2018-11-24 -0.067986 -0.223904 -0.115470  1.541927\n",
       "2018-11-25  1.688291 -1.792357  0.254216 -1.046223"
      ]
     },
     "execution_count": 30,
     "metadata": {},
     "output_type": "execute_result"
    }
   ],
   "source": [
    "df.sort_index(axis=1, ascending=False)"
   ]
  },
  {
   "cell_type": "code",
   "execution_count": 33,
   "metadata": {
    "ExecuteTime": {
     "end_time": "2018-11-19T12:11:06.946408Z",
     "start_time": "2018-11-19T12:11:06.935330Z"
    }
   },
   "outputs": [
    {
     "name": "stderr",
     "output_type": "stream",
     "text": [
      "/Users/zeev/.virtualenvs/science/lib/python3.6/site-packages/ipykernel_launcher.py:1: FutureWarning: by argument to sort_index is deprecated, please use .sort_values(by=...)\n",
      "  \"\"\"Entry point for launching an IPython kernel.\n"
     ]
    },
    {
     "data": {
      "text/html": [
       "<div>\n",
       "<style scoped>\n",
       "    .dataframe tbody tr th:only-of-type {\n",
       "        vertical-align: middle;\n",
       "    }\n",
       "\n",
       "    .dataframe tbody tr th {\n",
       "        vertical-align: top;\n",
       "    }\n",
       "\n",
       "    .dataframe thead th {\n",
       "        text-align: right;\n",
       "    }\n",
       "</style>\n",
       "<table border=\"1\" class=\"dataframe\">\n",
       "  <thead>\n",
       "    <tr style=\"text-align: right;\">\n",
       "      <th></th>\n",
       "      <th>A</th>\n",
       "      <th>B</th>\n",
       "      <th>C</th>\n",
       "      <th>D</th>\n",
       "    </tr>\n",
       "  </thead>\n",
       "  <tbody>\n",
       "    <tr>\n",
       "      <th>2018-11-19</th>\n",
       "      <td>-0.314492</td>\n",
       "      <td>0.037545</td>\n",
       "      <td>0.099808</td>\n",
       "      <td>-1.307579</td>\n",
       "    </tr>\n",
       "    <tr>\n",
       "      <th>2018-11-24</th>\n",
       "      <td>1.541927</td>\n",
       "      <td>-0.115470</td>\n",
       "      <td>-0.223904</td>\n",
       "      <td>-0.067986</td>\n",
       "    </tr>\n",
       "    <tr>\n",
       "      <th>2018-11-21</th>\n",
       "      <td>-1.745772</td>\n",
       "      <td>1.174089</td>\n",
       "      <td>0.665705</td>\n",
       "      <td>0.070575</td>\n",
       "    </tr>\n",
       "    <tr>\n",
       "      <th>2018-11-20</th>\n",
       "      <td>-0.224633</td>\n",
       "      <td>0.534234</td>\n",
       "      <td>1.660768</td>\n",
       "      <td>0.378448</td>\n",
       "    </tr>\n",
       "    <tr>\n",
       "      <th>2018-11-23</th>\n",
       "      <td>-1.040722</td>\n",
       "      <td>-1.666559</td>\n",
       "      <td>-0.276477</td>\n",
       "      <td>0.698090</td>\n",
       "    </tr>\n",
       "    <tr>\n",
       "      <th>2018-11-22</th>\n",
       "      <td>0.950198</td>\n",
       "      <td>1.249518</td>\n",
       "      <td>-0.536279</td>\n",
       "      <td>1.313715</td>\n",
       "    </tr>\n",
       "    <tr>\n",
       "      <th>2018-11-25</th>\n",
       "      <td>-1.046223</td>\n",
       "      <td>0.254216</td>\n",
       "      <td>-1.792357</td>\n",
       "      <td>1.688291</td>\n",
       "    </tr>\n",
       "  </tbody>\n",
       "</table>\n",
       "</div>"
      ],
      "text/plain": [
       "                   A         B         C         D\n",
       "2018-11-19 -0.314492  0.037545  0.099808 -1.307579\n",
       "2018-11-24  1.541927 -0.115470 -0.223904 -0.067986\n",
       "2018-11-21 -1.745772  1.174089  0.665705  0.070575\n",
       "2018-11-20 -0.224633  0.534234  1.660768  0.378448\n",
       "2018-11-23 -1.040722 -1.666559 -0.276477  0.698090\n",
       "2018-11-22  0.950198  1.249518 -0.536279  1.313715\n",
       "2018-11-25 -1.046223  0.254216 -1.792357  1.688291"
      ]
     },
     "execution_count": 33,
     "metadata": {},
     "output_type": "execute_result"
    }
   ],
   "source": [
    "df.sort_index(by='D')\n",
    "# ascending=False - from high to low"
   ]
  },
  {
   "cell_type": "markdown",
   "metadata": {},
   "source": [
    "#### selection"
   ]
  },
  {
   "cell_type": "code",
   "execution_count": 34,
   "metadata": {
    "ExecuteTime": {
     "end_time": "2018-11-19T12:11:23.246578Z",
     "start_time": "2018-11-19T12:11:23.241569Z"
    }
   },
   "outputs": [
    {
     "data": {
      "text/plain": [
       "2018-11-19   -0.314492\n",
       "2018-11-20   -0.224633\n",
       "2018-11-21   -1.745772\n",
       "2018-11-22    0.950198\n",
       "2018-11-23   -1.040722\n",
       "2018-11-24    1.541927\n",
       "2018-11-25   -1.046223\n",
       "Freq: D, Name: A, dtype: float64"
      ]
     },
     "execution_count": 34,
     "metadata": {},
     "output_type": "execute_result"
    }
   ],
   "source": [
    "df['A']"
   ]
  },
  {
   "cell_type": "code",
   "execution_count": 35,
   "metadata": {
    "ExecuteTime": {
     "end_time": "2018-11-19T12:11:31.797450Z",
     "start_time": "2018-11-19T12:11:31.786563Z"
    }
   },
   "outputs": [
    {
     "data": {
      "text/html": [
       "<div>\n",
       "<style scoped>\n",
       "    .dataframe tbody tr th:only-of-type {\n",
       "        vertical-align: middle;\n",
       "    }\n",
       "\n",
       "    .dataframe tbody tr th {\n",
       "        vertical-align: top;\n",
       "    }\n",
       "\n",
       "    .dataframe thead th {\n",
       "        text-align: right;\n",
       "    }\n",
       "</style>\n",
       "<table border=\"1\" class=\"dataframe\">\n",
       "  <thead>\n",
       "    <tr style=\"text-align: right;\">\n",
       "      <th></th>\n",
       "      <th>A</th>\n",
       "      <th>B</th>\n",
       "      <th>C</th>\n",
       "      <th>D</th>\n",
       "    </tr>\n",
       "  </thead>\n",
       "  <tbody>\n",
       "    <tr>\n",
       "      <th>2018-11-19</th>\n",
       "      <td>-0.314492</td>\n",
       "      <td>0.037545</td>\n",
       "      <td>0.099808</td>\n",
       "      <td>-1.307579</td>\n",
       "    </tr>\n",
       "    <tr>\n",
       "      <th>2018-11-20</th>\n",
       "      <td>-0.224633</td>\n",
       "      <td>0.534234</td>\n",
       "      <td>1.660768</td>\n",
       "      <td>0.378448</td>\n",
       "    </tr>\n",
       "    <tr>\n",
       "      <th>2018-11-21</th>\n",
       "      <td>-1.745772</td>\n",
       "      <td>1.174089</td>\n",
       "      <td>0.665705</td>\n",
       "      <td>0.070575</td>\n",
       "    </tr>\n",
       "  </tbody>\n",
       "</table>\n",
       "</div>"
      ],
      "text/plain": [
       "                   A         B         C         D\n",
       "2018-11-19 -0.314492  0.037545  0.099808 -1.307579\n",
       "2018-11-20 -0.224633  0.534234  1.660768  0.378448\n",
       "2018-11-21 -1.745772  1.174089  0.665705  0.070575"
      ]
     },
     "execution_count": 35,
     "metadata": {},
     "output_type": "execute_result"
    }
   ],
   "source": [
    "df[0:3]"
   ]
  },
  {
   "cell_type": "code",
   "execution_count": 36,
   "metadata": {
    "ExecuteTime": {
     "end_time": "2018-11-19T12:11:55.426275Z",
     "start_time": "2018-11-19T12:11:55.410365Z"
    }
   },
   "outputs": [
    {
     "data": {
      "text/html": [
       "<div>\n",
       "<style scoped>\n",
       "    .dataframe tbody tr th:only-of-type {\n",
       "        vertical-align: middle;\n",
       "    }\n",
       "\n",
       "    .dataframe tbody tr th {\n",
       "        vertical-align: top;\n",
       "    }\n",
       "\n",
       "    .dataframe thead th {\n",
       "        text-align: right;\n",
       "    }\n",
       "</style>\n",
       "<table border=\"1\" class=\"dataframe\">\n",
       "  <thead>\n",
       "    <tr style=\"text-align: right;\">\n",
       "      <th></th>\n",
       "      <th>A</th>\n",
       "      <th>B</th>\n",
       "      <th>C</th>\n",
       "      <th>D</th>\n",
       "    </tr>\n",
       "  </thead>\n",
       "  <tbody>\n",
       "    <tr>\n",
       "      <th>2018-11-19</th>\n",
       "      <td>-0.314492</td>\n",
       "      <td>0.037545</td>\n",
       "      <td>0.099808</td>\n",
       "      <td>-1.307579</td>\n",
       "    </tr>\n",
       "    <tr>\n",
       "      <th>2018-11-20</th>\n",
       "      <td>-0.224633</td>\n",
       "      <td>0.534234</td>\n",
       "      <td>1.660768</td>\n",
       "      <td>0.378448</td>\n",
       "    </tr>\n",
       "  </tbody>\n",
       "</table>\n",
       "</div>"
      ],
      "text/plain": [
       "                   A         B         C         D\n",
       "2018-11-19 -0.314492  0.037545  0.099808 -1.307579\n",
       "2018-11-20 -0.224633  0.534234  1.660768  0.378448"
      ]
     },
     "execution_count": 36,
     "metadata": {},
     "output_type": "execute_result"
    }
   ],
   "source": [
    "df['20181119':'20181120']"
   ]
  },
  {
   "cell_type": "code",
   "execution_count": 37,
   "metadata": {
    "ExecuteTime": {
     "end_time": "2018-11-19T12:12:20.493796Z",
     "start_time": "2018-11-19T12:12:20.487937Z"
    }
   },
   "outputs": [
    {
     "data": {
      "text/plain": [
       "A   -0.314492\n",
       "B    0.037545\n",
       "C    0.099808\n",
       "D   -1.307579\n",
       "Name: 2018-11-19 00:00:00, dtype: float64"
      ]
     },
     "execution_count": 37,
     "metadata": {},
     "output_type": "execute_result"
    }
   ],
   "source": [
    "# select by label\n",
    "df.loc[dates[0]]"
   ]
  },
  {
   "cell_type": "code",
   "execution_count": 39,
   "metadata": {
    "ExecuteTime": {
     "end_time": "2018-11-19T12:12:38.295717Z",
     "start_time": "2018-11-19T12:12:38.286193Z"
    }
   },
   "outputs": [
    {
     "data": {
      "text/html": [
       "<div>\n",
       "<style scoped>\n",
       "    .dataframe tbody tr th:only-of-type {\n",
       "        vertical-align: middle;\n",
       "    }\n",
       "\n",
       "    .dataframe tbody tr th {\n",
       "        vertical-align: top;\n",
       "    }\n",
       "\n",
       "    .dataframe thead th {\n",
       "        text-align: right;\n",
       "    }\n",
       "</style>\n",
       "<table border=\"1\" class=\"dataframe\">\n",
       "  <thead>\n",
       "    <tr style=\"text-align: right;\">\n",
       "      <th></th>\n",
       "      <th>A</th>\n",
       "      <th>B</th>\n",
       "    </tr>\n",
       "  </thead>\n",
       "  <tbody>\n",
       "    <tr>\n",
       "      <th>2018-11-19</th>\n",
       "      <td>-0.314492</td>\n",
       "      <td>0.037545</td>\n",
       "    </tr>\n",
       "    <tr>\n",
       "      <th>2018-11-20</th>\n",
       "      <td>-0.224633</td>\n",
       "      <td>0.534234</td>\n",
       "    </tr>\n",
       "    <tr>\n",
       "      <th>2018-11-21</th>\n",
       "      <td>-1.745772</td>\n",
       "      <td>1.174089</td>\n",
       "    </tr>\n",
       "    <tr>\n",
       "      <th>2018-11-22</th>\n",
       "      <td>0.950198</td>\n",
       "      <td>1.249518</td>\n",
       "    </tr>\n",
       "    <tr>\n",
       "      <th>2018-11-23</th>\n",
       "      <td>-1.040722</td>\n",
       "      <td>-1.666559</td>\n",
       "    </tr>\n",
       "    <tr>\n",
       "      <th>2018-11-24</th>\n",
       "      <td>1.541927</td>\n",
       "      <td>-0.115470</td>\n",
       "    </tr>\n",
       "    <tr>\n",
       "      <th>2018-11-25</th>\n",
       "      <td>-1.046223</td>\n",
       "      <td>0.254216</td>\n",
       "    </tr>\n",
       "  </tbody>\n",
       "</table>\n",
       "</div>"
      ],
      "text/plain": [
       "                   A         B\n",
       "2018-11-19 -0.314492  0.037545\n",
       "2018-11-20 -0.224633  0.534234\n",
       "2018-11-21 -1.745772  1.174089\n",
       "2018-11-22  0.950198  1.249518\n",
       "2018-11-23 -1.040722 -1.666559\n",
       "2018-11-24  1.541927 -0.115470\n",
       "2018-11-25 -1.046223  0.254216"
      ]
     },
     "execution_count": 39,
     "metadata": {},
     "output_type": "execute_result"
    }
   ],
   "source": [
    "df.loc[:, ['A', 'B']]"
   ]
  },
  {
   "cell_type": "code",
   "execution_count": 40,
   "metadata": {
    "ExecuteTime": {
     "end_time": "2018-11-19T12:12:51.563091Z",
     "start_time": "2018-11-19T12:12:51.552305Z"
    }
   },
   "outputs": [
    {
     "data": {
      "text/html": [
       "<div>\n",
       "<style scoped>\n",
       "    .dataframe tbody tr th:only-of-type {\n",
       "        vertical-align: middle;\n",
       "    }\n",
       "\n",
       "    .dataframe tbody tr th {\n",
       "        vertical-align: top;\n",
       "    }\n",
       "\n",
       "    .dataframe thead th {\n",
       "        text-align: right;\n",
       "    }\n",
       "</style>\n",
       "<table border=\"1\" class=\"dataframe\">\n",
       "  <thead>\n",
       "    <tr style=\"text-align: right;\">\n",
       "      <th></th>\n",
       "      <th>A</th>\n",
       "      <th>B</th>\n",
       "    </tr>\n",
       "  </thead>\n",
       "  <tbody>\n",
       "    <tr>\n",
       "      <th>2018-11-19</th>\n",
       "      <td>-0.314492</td>\n",
       "      <td>0.037545</td>\n",
       "    </tr>\n",
       "    <tr>\n",
       "      <th>2018-11-20</th>\n",
       "      <td>-0.224633</td>\n",
       "      <td>0.534234</td>\n",
       "    </tr>\n",
       "  </tbody>\n",
       "</table>\n",
       "</div>"
      ],
      "text/plain": [
       "                   A         B\n",
       "2018-11-19 -0.314492  0.037545\n",
       "2018-11-20 -0.224633  0.534234"
      ]
     },
     "execution_count": 40,
     "metadata": {},
     "output_type": "execute_result"
    }
   ],
   "source": [
    "df.loc['20181119':'20181120',['A','B']]"
   ]
  },
  {
   "cell_type": "code",
   "execution_count": 41,
   "metadata": {
    "ExecuteTime": {
     "end_time": "2018-11-19T12:13:03.486569Z",
     "start_time": "2018-11-19T12:13:03.473202Z"
    }
   },
   "outputs": [
    {
     "data": {
      "text/plain": [
       "A   -0.314492\n",
       "B    0.037545\n",
       "Name: 2018-11-19 00:00:00, dtype: float64"
      ]
     },
     "execution_count": 41,
     "metadata": {},
     "output_type": "execute_result"
    }
   ],
   "source": [
    "df.loc['20181119',['A','B']]"
   ]
  },
  {
   "cell_type": "code",
   "execution_count": 42,
   "metadata": {
    "ExecuteTime": {
     "end_time": "2018-11-19T12:13:24.319619Z",
     "start_time": "2018-11-19T12:13:24.308551Z"
    }
   },
   "outputs": [
    {
     "data": {
      "text/plain": [
       "-0.31449173416562504"
      ]
     },
     "execution_count": 42,
     "metadata": {},
     "output_type": "execute_result"
    }
   ],
   "source": [
    "df.loc[dates[0],'A']"
   ]
  },
  {
   "cell_type": "code",
   "execution_count": 43,
   "metadata": {
    "ExecuteTime": {
     "end_time": "2018-11-19T12:13:41.536378Z",
     "start_time": "2018-11-19T12:13:41.532059Z"
    }
   },
   "outputs": [
    {
     "data": {
      "text/plain": [
       "-0.31449173416562504"
      ]
     },
     "execution_count": 43,
     "metadata": {},
     "output_type": "execute_result"
    }
   ],
   "source": [
    "# same as .loc with fast access to a scalar\n",
    "df.at[dates[0],'A']"
   ]
  },
  {
   "cell_type": "code",
   "execution_count": 44,
   "metadata": {
    "ExecuteTime": {
     "end_time": "2018-11-19T12:14:01.742998Z",
     "start_time": "2018-11-19T12:14:01.737618Z"
    }
   },
   "outputs": [
    {
     "data": {
      "text/plain": [
       "A   -1.745772\n",
       "B    1.174089\n",
       "C    0.665705\n",
       "D    0.070575\n",
       "Name: 2018-11-21 00:00:00, dtype: float64"
      ]
     },
     "execution_count": 44,
     "metadata": {},
     "output_type": "execute_result"
    }
   ],
   "source": [
    "# selection by position\n",
    "df.iloc[2]"
   ]
  },
  {
   "cell_type": "code",
   "execution_count": 45,
   "metadata": {
    "ExecuteTime": {
     "end_time": "2018-11-19T12:15:15.894142Z",
     "start_time": "2018-11-19T12:15:15.885752Z"
    }
   },
   "outputs": [
    {
     "data": {
      "text/html": [
       "<div>\n",
       "<style scoped>\n",
       "    .dataframe tbody tr th:only-of-type {\n",
       "        vertical-align: middle;\n",
       "    }\n",
       "\n",
       "    .dataframe tbody tr th {\n",
       "        vertical-align: top;\n",
       "    }\n",
       "\n",
       "    .dataframe thead th {\n",
       "        text-align: right;\n",
       "    }\n",
       "</style>\n",
       "<table border=\"1\" class=\"dataframe\">\n",
       "  <thead>\n",
       "    <tr style=\"text-align: right;\">\n",
       "      <th></th>\n",
       "      <th>A</th>\n",
       "      <th>B</th>\n",
       "    </tr>\n",
       "  </thead>\n",
       "  <tbody>\n",
       "    <tr>\n",
       "      <th>2018-11-22</th>\n",
       "      <td>0.950198</td>\n",
       "      <td>1.249518</td>\n",
       "    </tr>\n",
       "    <tr>\n",
       "      <th>2018-11-23</th>\n",
       "      <td>-1.040722</td>\n",
       "      <td>-1.666559</td>\n",
       "    </tr>\n",
       "  </tbody>\n",
       "</table>\n",
       "</div>"
      ],
      "text/plain": [
       "                   A         B\n",
       "2018-11-22  0.950198  1.249518\n",
       "2018-11-23 -1.040722 -1.666559"
      ]
     },
     "execution_count": 45,
     "metadata": {},
     "output_type": "execute_result"
    }
   ],
   "source": [
    "df.iloc[3:5,0:2]"
   ]
  },
  {
   "cell_type": "code",
   "execution_count": 46,
   "metadata": {
    "ExecuteTime": {
     "end_time": "2018-11-19T12:15:23.006840Z",
     "start_time": "2018-11-19T12:15:22.996343Z"
    }
   },
   "outputs": [
    {
     "data": {
      "text/html": [
       "<div>\n",
       "<style scoped>\n",
       "    .dataframe tbody tr th:only-of-type {\n",
       "        vertical-align: middle;\n",
       "    }\n",
       "\n",
       "    .dataframe tbody tr th {\n",
       "        vertical-align: top;\n",
       "    }\n",
       "\n",
       "    .dataframe thead th {\n",
       "        text-align: right;\n",
       "    }\n",
       "</style>\n",
       "<table border=\"1\" class=\"dataframe\">\n",
       "  <thead>\n",
       "    <tr style=\"text-align: right;\">\n",
       "      <th></th>\n",
       "      <th>A</th>\n",
       "      <th>B</th>\n",
       "      <th>C</th>\n",
       "      <th>D</th>\n",
       "    </tr>\n",
       "  </thead>\n",
       "  <tbody>\n",
       "    <tr>\n",
       "      <th>2018-11-20</th>\n",
       "      <td>-0.224633</td>\n",
       "      <td>0.534234</td>\n",
       "      <td>1.660768</td>\n",
       "      <td>0.378448</td>\n",
       "    </tr>\n",
       "    <tr>\n",
       "      <th>2018-11-21</th>\n",
       "      <td>-1.745772</td>\n",
       "      <td>1.174089</td>\n",
       "      <td>0.665705</td>\n",
       "      <td>0.070575</td>\n",
       "    </tr>\n",
       "  </tbody>\n",
       "</table>\n",
       "</div>"
      ],
      "text/plain": [
       "                   A         B         C         D\n",
       "2018-11-20 -0.224633  0.534234  1.660768  0.378448\n",
       "2018-11-21 -1.745772  1.174089  0.665705  0.070575"
      ]
     },
     "execution_count": 46,
     "metadata": {},
     "output_type": "execute_result"
    }
   ],
   "source": [
    "df.iloc[1:3,:]"
   ]
  },
  {
   "cell_type": "code",
   "execution_count": 47,
   "metadata": {
    "ExecuteTime": {
     "end_time": "2018-11-19T12:15:50.275246Z",
     "start_time": "2018-11-19T12:15:50.265398Z"
    }
   },
   "outputs": [
    {
     "data": {
      "text/html": [
       "<div>\n",
       "<style scoped>\n",
       "    .dataframe tbody tr th:only-of-type {\n",
       "        vertical-align: middle;\n",
       "    }\n",
       "\n",
       "    .dataframe tbody tr th {\n",
       "        vertical-align: top;\n",
       "    }\n",
       "\n",
       "    .dataframe thead th {\n",
       "        text-align: right;\n",
       "    }\n",
       "</style>\n",
       "<table border=\"1\" class=\"dataframe\">\n",
       "  <thead>\n",
       "    <tr style=\"text-align: right;\">\n",
       "      <th></th>\n",
       "      <th>B</th>\n",
       "      <th>C</th>\n",
       "    </tr>\n",
       "  </thead>\n",
       "  <tbody>\n",
       "    <tr>\n",
       "      <th>2018-11-19</th>\n",
       "      <td>0.037545</td>\n",
       "      <td>0.099808</td>\n",
       "    </tr>\n",
       "    <tr>\n",
       "      <th>2018-11-20</th>\n",
       "      <td>0.534234</td>\n",
       "      <td>1.660768</td>\n",
       "    </tr>\n",
       "    <tr>\n",
       "      <th>2018-11-21</th>\n",
       "      <td>1.174089</td>\n",
       "      <td>0.665705</td>\n",
       "    </tr>\n",
       "    <tr>\n",
       "      <th>2018-11-22</th>\n",
       "      <td>1.249518</td>\n",
       "      <td>-0.536279</td>\n",
       "    </tr>\n",
       "    <tr>\n",
       "      <th>2018-11-23</th>\n",
       "      <td>-1.666559</td>\n",
       "      <td>-0.276477</td>\n",
       "    </tr>\n",
       "    <tr>\n",
       "      <th>2018-11-24</th>\n",
       "      <td>-0.115470</td>\n",
       "      <td>-0.223904</td>\n",
       "    </tr>\n",
       "    <tr>\n",
       "      <th>2018-11-25</th>\n",
       "      <td>0.254216</td>\n",
       "      <td>-1.792357</td>\n",
       "    </tr>\n",
       "  </tbody>\n",
       "</table>\n",
       "</div>"
      ],
      "text/plain": [
       "                   B         C\n",
       "2018-11-19  0.037545  0.099808\n",
       "2018-11-20  0.534234  1.660768\n",
       "2018-11-21  1.174089  0.665705\n",
       "2018-11-22  1.249518 -0.536279\n",
       "2018-11-23 -1.666559 -0.276477\n",
       "2018-11-24 -0.115470 -0.223904\n",
       "2018-11-25  0.254216 -1.792357"
      ]
     },
     "execution_count": 47,
     "metadata": {},
     "output_type": "execute_result"
    }
   ],
   "source": [
    "df.iloc[:,1:3]"
   ]
  },
  {
   "cell_type": "code",
   "execution_count": 48,
   "metadata": {
    "ExecuteTime": {
     "end_time": "2018-11-19T12:16:01.928770Z",
     "start_time": "2018-11-19T12:16:01.922730Z"
    }
   },
   "outputs": [
    {
     "data": {
      "text/plain": [
       "0.5342340996498853"
      ]
     },
     "execution_count": 48,
     "metadata": {},
     "output_type": "execute_result"
    }
   ],
   "source": [
    "# df.iloc[1,1]\n",
    "df.iat[1,1]"
   ]
  },
  {
   "cell_type": "markdown",
   "metadata": {},
   "source": [
    "#### boolean indexing"
   ]
  },
  {
   "cell_type": "code",
   "execution_count": 49,
   "metadata": {
    "ExecuteTime": {
     "end_time": "2018-11-19T12:16:15.879875Z",
     "start_time": "2018-11-19T12:16:15.870804Z"
    }
   },
   "outputs": [
    {
     "data": {
      "text/html": [
       "<div>\n",
       "<style scoped>\n",
       "    .dataframe tbody tr th:only-of-type {\n",
       "        vertical-align: middle;\n",
       "    }\n",
       "\n",
       "    .dataframe tbody tr th {\n",
       "        vertical-align: top;\n",
       "    }\n",
       "\n",
       "    .dataframe thead th {\n",
       "        text-align: right;\n",
       "    }\n",
       "</style>\n",
       "<table border=\"1\" class=\"dataframe\">\n",
       "  <thead>\n",
       "    <tr style=\"text-align: right;\">\n",
       "      <th></th>\n",
       "      <th>A</th>\n",
       "      <th>B</th>\n",
       "      <th>C</th>\n",
       "      <th>D</th>\n",
       "    </tr>\n",
       "  </thead>\n",
       "  <tbody>\n",
       "    <tr>\n",
       "      <th>2018-11-22</th>\n",
       "      <td>0.950198</td>\n",
       "      <td>1.249518</td>\n",
       "      <td>-0.536279</td>\n",
       "      <td>1.313715</td>\n",
       "    </tr>\n",
       "    <tr>\n",
       "      <th>2018-11-24</th>\n",
       "      <td>1.541927</td>\n",
       "      <td>-0.115470</td>\n",
       "      <td>-0.223904</td>\n",
       "      <td>-0.067986</td>\n",
       "    </tr>\n",
       "  </tbody>\n",
       "</table>\n",
       "</div>"
      ],
      "text/plain": [
       "                   A         B         C         D\n",
       "2018-11-22  0.950198  1.249518 -0.536279  1.313715\n",
       "2018-11-24  1.541927 -0.115470 -0.223904 -0.067986"
      ]
     },
     "execution_count": 49,
     "metadata": {},
     "output_type": "execute_result"
    }
   ],
   "source": [
    "df[df.A > 0]"
   ]
  },
  {
   "cell_type": "code",
   "execution_count": 51,
   "metadata": {
    "ExecuteTime": {
     "end_time": "2018-11-19T12:16:24.051427Z",
     "start_time": "2018-11-19T12:16:24.039108Z"
    }
   },
   "outputs": [
    {
     "data": {
      "text/html": [
       "<div>\n",
       "<style scoped>\n",
       "    .dataframe tbody tr th:only-of-type {\n",
       "        vertical-align: middle;\n",
       "    }\n",
       "\n",
       "    .dataframe tbody tr th {\n",
       "        vertical-align: top;\n",
       "    }\n",
       "\n",
       "    .dataframe thead th {\n",
       "        text-align: right;\n",
       "    }\n",
       "</style>\n",
       "<table border=\"1\" class=\"dataframe\">\n",
       "  <thead>\n",
       "    <tr style=\"text-align: right;\">\n",
       "      <th></th>\n",
       "      <th>A</th>\n",
       "      <th>B</th>\n",
       "      <th>C</th>\n",
       "      <th>D</th>\n",
       "    </tr>\n",
       "  </thead>\n",
       "  <tbody>\n",
       "    <tr>\n",
       "      <th>2018-11-19</th>\n",
       "      <td>NaN</td>\n",
       "      <td>0.037545</td>\n",
       "      <td>0.099808</td>\n",
       "      <td>NaN</td>\n",
       "    </tr>\n",
       "    <tr>\n",
       "      <th>2018-11-20</th>\n",
       "      <td>NaN</td>\n",
       "      <td>0.534234</td>\n",
       "      <td>1.660768</td>\n",
       "      <td>0.378448</td>\n",
       "    </tr>\n",
       "    <tr>\n",
       "      <th>2018-11-21</th>\n",
       "      <td>NaN</td>\n",
       "      <td>1.174089</td>\n",
       "      <td>0.665705</td>\n",
       "      <td>0.070575</td>\n",
       "    </tr>\n",
       "    <tr>\n",
       "      <th>2018-11-22</th>\n",
       "      <td>0.950198</td>\n",
       "      <td>1.249518</td>\n",
       "      <td>NaN</td>\n",
       "      <td>1.313715</td>\n",
       "    </tr>\n",
       "    <tr>\n",
       "      <th>2018-11-23</th>\n",
       "      <td>NaN</td>\n",
       "      <td>NaN</td>\n",
       "      <td>NaN</td>\n",
       "      <td>0.698090</td>\n",
       "    </tr>\n",
       "    <tr>\n",
       "      <th>2018-11-24</th>\n",
       "      <td>1.541927</td>\n",
       "      <td>NaN</td>\n",
       "      <td>NaN</td>\n",
       "      <td>NaN</td>\n",
       "    </tr>\n",
       "    <tr>\n",
       "      <th>2018-11-25</th>\n",
       "      <td>NaN</td>\n",
       "      <td>0.254216</td>\n",
       "      <td>NaN</td>\n",
       "      <td>1.688291</td>\n",
       "    </tr>\n",
       "  </tbody>\n",
       "</table>\n",
       "</div>"
      ],
      "text/plain": [
       "                   A         B         C         D\n",
       "2018-11-19       NaN  0.037545  0.099808       NaN\n",
       "2018-11-20       NaN  0.534234  1.660768  0.378448\n",
       "2018-11-21       NaN  1.174089  0.665705  0.070575\n",
       "2018-11-22  0.950198  1.249518       NaN  1.313715\n",
       "2018-11-23       NaN       NaN       NaN  0.698090\n",
       "2018-11-24  1.541927       NaN       NaN       NaN\n",
       "2018-11-25       NaN  0.254216       NaN  1.688291"
      ]
     },
     "execution_count": 51,
     "metadata": {},
     "output_type": "execute_result"
    }
   ],
   "source": [
    "df[df > 0]"
   ]
  },
  {
   "cell_type": "markdown",
   "metadata": {},
   "source": [
    "####  setting"
   ]
  },
  {
   "cell_type": "code",
   "execution_count": 53,
   "metadata": {
    "ExecuteTime": {
     "end_time": "2018-11-19T12:17:25.864270Z",
     "start_time": "2018-11-19T12:17:25.857997Z"
    }
   },
   "outputs": [
    {
     "data": {
      "text/plain": [
       "2018-11-19    1\n",
       "2018-11-20    2\n",
       "2018-11-21    3\n",
       "2018-11-22    4\n",
       "2018-11-23    5\n",
       "2018-11-24    6\n",
       "2018-11-25    7\n",
       "Freq: D, dtype: int64"
      ]
     },
     "execution_count": 53,
     "metadata": {},
     "output_type": "execute_result"
    }
   ],
   "source": [
    "s1 = pd.Series([1,2,3,4,5,6,7], index=pd.date_range('20181119', periods=7))\n",
    "s1"
   ]
  },
  {
   "cell_type": "code",
   "execution_count": 54,
   "metadata": {
    "ExecuteTime": {
     "end_time": "2018-11-19T12:17:55.231795Z",
     "start_time": "2018-11-19T12:17:55.220402Z"
    }
   },
   "outputs": [],
   "source": [
    "df['E'] = s1"
   ]
  },
  {
   "cell_type": "code",
   "execution_count": 55,
   "metadata": {
    "ExecuteTime": {
     "end_time": "2018-11-19T12:18:10.961011Z",
     "start_time": "2018-11-19T12:18:10.951803Z"
    }
   },
   "outputs": [],
   "source": [
    "df.at[dates[0], 'A'] = 0"
   ]
  },
  {
   "cell_type": "code",
   "execution_count": 56,
   "metadata": {
    "ExecuteTime": {
     "end_time": "2018-11-19T12:18:26.181832Z",
     "start_time": "2018-11-19T12:18:26.179275Z"
    }
   },
   "outputs": [],
   "source": [
    "df.iat[0, 1] = 0"
   ]
  },
  {
   "cell_type": "code",
   "execution_count": 57,
   "metadata": {
    "ExecuteTime": {
     "end_time": "2018-11-19T12:18:33.828047Z",
     "start_time": "2018-11-19T12:18:33.818117Z"
    }
   },
   "outputs": [],
   "source": [
    "df.loc[:,'D'] = np.array([5] * len(df))"
   ]
  },
  {
   "cell_type": "code",
   "execution_count": 58,
   "metadata": {
    "ExecuteTime": {
     "end_time": "2018-11-19T12:18:35.150517Z",
     "start_time": "2018-11-19T12:18:35.139411Z"
    }
   },
   "outputs": [
    {
     "data": {
      "text/html": [
       "<div>\n",
       "<style scoped>\n",
       "    .dataframe tbody tr th:only-of-type {\n",
       "        vertical-align: middle;\n",
       "    }\n",
       "\n",
       "    .dataframe tbody tr th {\n",
       "        vertical-align: top;\n",
       "    }\n",
       "\n",
       "    .dataframe thead th {\n",
       "        text-align: right;\n",
       "    }\n",
       "</style>\n",
       "<table border=\"1\" class=\"dataframe\">\n",
       "  <thead>\n",
       "    <tr style=\"text-align: right;\">\n",
       "      <th></th>\n",
       "      <th>A</th>\n",
       "      <th>B</th>\n",
       "      <th>C</th>\n",
       "      <th>D</th>\n",
       "      <th>E</th>\n",
       "    </tr>\n",
       "  </thead>\n",
       "  <tbody>\n",
       "    <tr>\n",
       "      <th>2018-11-19</th>\n",
       "      <td>0.000000</td>\n",
       "      <td>0.000000</td>\n",
       "      <td>0.099808</td>\n",
       "      <td>5</td>\n",
       "      <td>1</td>\n",
       "    </tr>\n",
       "    <tr>\n",
       "      <th>2018-11-20</th>\n",
       "      <td>-0.224633</td>\n",
       "      <td>0.534234</td>\n",
       "      <td>1.660768</td>\n",
       "      <td>5</td>\n",
       "      <td>2</td>\n",
       "    </tr>\n",
       "    <tr>\n",
       "      <th>2018-11-21</th>\n",
       "      <td>-1.745772</td>\n",
       "      <td>1.174089</td>\n",
       "      <td>0.665705</td>\n",
       "      <td>5</td>\n",
       "      <td>3</td>\n",
       "    </tr>\n",
       "    <tr>\n",
       "      <th>2018-11-22</th>\n",
       "      <td>0.950198</td>\n",
       "      <td>1.249518</td>\n",
       "      <td>-0.536279</td>\n",
       "      <td>5</td>\n",
       "      <td>4</td>\n",
       "    </tr>\n",
       "    <tr>\n",
       "      <th>2018-11-23</th>\n",
       "      <td>-1.040722</td>\n",
       "      <td>-1.666559</td>\n",
       "      <td>-0.276477</td>\n",
       "      <td>5</td>\n",
       "      <td>5</td>\n",
       "    </tr>\n",
       "    <tr>\n",
       "      <th>2018-11-24</th>\n",
       "      <td>1.541927</td>\n",
       "      <td>-0.115470</td>\n",
       "      <td>-0.223904</td>\n",
       "      <td>5</td>\n",
       "      <td>6</td>\n",
       "    </tr>\n",
       "    <tr>\n",
       "      <th>2018-11-25</th>\n",
       "      <td>-1.046223</td>\n",
       "      <td>0.254216</td>\n",
       "      <td>-1.792357</td>\n",
       "      <td>5</td>\n",
       "      <td>7</td>\n",
       "    </tr>\n",
       "  </tbody>\n",
       "</table>\n",
       "</div>"
      ],
      "text/plain": [
       "                   A         B         C  D  E\n",
       "2018-11-19  0.000000  0.000000  0.099808  5  1\n",
       "2018-11-20 -0.224633  0.534234  1.660768  5  2\n",
       "2018-11-21 -1.745772  1.174089  0.665705  5  3\n",
       "2018-11-22  0.950198  1.249518 -0.536279  5  4\n",
       "2018-11-23 -1.040722 -1.666559 -0.276477  5  5\n",
       "2018-11-24  1.541927 -0.115470 -0.223904  5  6\n",
       "2018-11-25 -1.046223  0.254216 -1.792357  5  7"
      ]
     },
     "execution_count": 58,
     "metadata": {},
     "output_type": "execute_result"
    }
   ],
   "source": [
    "df"
   ]
  },
  {
   "cell_type": "code",
   "execution_count": 59,
   "metadata": {
    "ExecuteTime": {
     "end_time": "2018-11-19T12:19:05.994917Z",
     "start_time": "2018-11-19T12:19:05.971262Z"
    }
   },
   "outputs": [
    {
     "data": {
      "text/html": [
       "<div>\n",
       "<style scoped>\n",
       "    .dataframe tbody tr th:only-of-type {\n",
       "        vertical-align: middle;\n",
       "    }\n",
       "\n",
       "    .dataframe tbody tr th {\n",
       "        vertical-align: top;\n",
       "    }\n",
       "\n",
       "    .dataframe thead th {\n",
       "        text-align: right;\n",
       "    }\n",
       "</style>\n",
       "<table border=\"1\" class=\"dataframe\">\n",
       "  <thead>\n",
       "    <tr style=\"text-align: right;\">\n",
       "      <th></th>\n",
       "      <th>A</th>\n",
       "      <th>B</th>\n",
       "      <th>C</th>\n",
       "      <th>D</th>\n",
       "      <th>E</th>\n",
       "    </tr>\n",
       "  </thead>\n",
       "  <tbody>\n",
       "    <tr>\n",
       "      <th>2018-11-19</th>\n",
       "      <td>0.000000</td>\n",
       "      <td>0.000000</td>\n",
       "      <td>-0.099808</td>\n",
       "      <td>-5</td>\n",
       "      <td>-1</td>\n",
       "    </tr>\n",
       "    <tr>\n",
       "      <th>2018-11-20</th>\n",
       "      <td>-0.224633</td>\n",
       "      <td>-0.534234</td>\n",
       "      <td>-1.660768</td>\n",
       "      <td>-5</td>\n",
       "      <td>-2</td>\n",
       "    </tr>\n",
       "    <tr>\n",
       "      <th>2018-11-21</th>\n",
       "      <td>-1.745772</td>\n",
       "      <td>-1.174089</td>\n",
       "      <td>-0.665705</td>\n",
       "      <td>-5</td>\n",
       "      <td>-3</td>\n",
       "    </tr>\n",
       "    <tr>\n",
       "      <th>2018-11-22</th>\n",
       "      <td>-0.950198</td>\n",
       "      <td>-1.249518</td>\n",
       "      <td>-0.536279</td>\n",
       "      <td>-5</td>\n",
       "      <td>-4</td>\n",
       "    </tr>\n",
       "    <tr>\n",
       "      <th>2018-11-23</th>\n",
       "      <td>-1.040722</td>\n",
       "      <td>-1.666559</td>\n",
       "      <td>-0.276477</td>\n",
       "      <td>-5</td>\n",
       "      <td>-5</td>\n",
       "    </tr>\n",
       "    <tr>\n",
       "      <th>2018-11-24</th>\n",
       "      <td>-1.541927</td>\n",
       "      <td>-0.115470</td>\n",
       "      <td>-0.223904</td>\n",
       "      <td>-5</td>\n",
       "      <td>-6</td>\n",
       "    </tr>\n",
       "    <tr>\n",
       "      <th>2018-11-25</th>\n",
       "      <td>-1.046223</td>\n",
       "      <td>-0.254216</td>\n",
       "      <td>-1.792357</td>\n",
       "      <td>-5</td>\n",
       "      <td>-7</td>\n",
       "    </tr>\n",
       "  </tbody>\n",
       "</table>\n",
       "</div>"
      ],
      "text/plain": [
       "                   A         B         C  D  E\n",
       "2018-11-19  0.000000  0.000000 -0.099808 -5 -1\n",
       "2018-11-20 -0.224633 -0.534234 -1.660768 -5 -2\n",
       "2018-11-21 -1.745772 -1.174089 -0.665705 -5 -3\n",
       "2018-11-22 -0.950198 -1.249518 -0.536279 -5 -4\n",
       "2018-11-23 -1.040722 -1.666559 -0.276477 -5 -5\n",
       "2018-11-24 -1.541927 -0.115470 -0.223904 -5 -6\n",
       "2018-11-25 -1.046223 -0.254216 -1.792357 -5 -7"
      ]
     },
     "execution_count": 59,
     "metadata": {},
     "output_type": "execute_result"
    }
   ],
   "source": [
    "df_2 = df.copy()\n",
    "df_2[df_2 > 0] = -df_2\n",
    "df_2"
   ]
  },
  {
   "cell_type": "markdown",
   "metadata": {},
   "source": [
    "#### missing data"
   ]
  },
  {
   "cell_type": "code",
   "execution_count": 61,
   "metadata": {
    "ExecuteTime": {
     "end_time": "2018-11-19T12:42:50.365597Z",
     "start_time": "2018-11-19T12:42:50.355045Z"
    }
   },
   "outputs": [
    {
     "data": {
      "text/html": [
       "<div>\n",
       "<style scoped>\n",
       "    .dataframe tbody tr th:only-of-type {\n",
       "        vertical-align: middle;\n",
       "    }\n",
       "\n",
       "    .dataframe tbody tr th {\n",
       "        vertical-align: top;\n",
       "    }\n",
       "\n",
       "    .dataframe thead th {\n",
       "        text-align: right;\n",
       "    }\n",
       "</style>\n",
       "<table border=\"1\" class=\"dataframe\">\n",
       "  <thead>\n",
       "    <tr style=\"text-align: right;\">\n",
       "      <th></th>\n",
       "      <th>A</th>\n",
       "      <th>B</th>\n",
       "      <th>C</th>\n",
       "      <th>D</th>\n",
       "      <th>E</th>\n",
       "      <th>F</th>\n",
       "    </tr>\n",
       "  </thead>\n",
       "  <tbody>\n",
       "    <tr>\n",
       "      <th>2018-11-19</th>\n",
       "      <td>0.000000</td>\n",
       "      <td>0.000000</td>\n",
       "      <td>0.099808</td>\n",
       "      <td>5</td>\n",
       "      <td>1</td>\n",
       "      <td>NaN</td>\n",
       "    </tr>\n",
       "    <tr>\n",
       "      <th>2018-11-20</th>\n",
       "      <td>-0.224633</td>\n",
       "      <td>0.534234</td>\n",
       "      <td>1.660768</td>\n",
       "      <td>5</td>\n",
       "      <td>2</td>\n",
       "      <td>NaN</td>\n",
       "    </tr>\n",
       "    <tr>\n",
       "      <th>2018-11-21</th>\n",
       "      <td>-1.745772</td>\n",
       "      <td>1.174089</td>\n",
       "      <td>0.665705</td>\n",
       "      <td>5</td>\n",
       "      <td>3</td>\n",
       "      <td>NaN</td>\n",
       "    </tr>\n",
       "    <tr>\n",
       "      <th>2018-11-22</th>\n",
       "      <td>0.950198</td>\n",
       "      <td>1.249518</td>\n",
       "      <td>-0.536279</td>\n",
       "      <td>5</td>\n",
       "      <td>4</td>\n",
       "      <td>NaN</td>\n",
       "    </tr>\n",
       "  </tbody>\n",
       "</table>\n",
       "</div>"
      ],
      "text/plain": [
       "                   A         B         C  D  E   F\n",
       "2018-11-19  0.000000  0.000000  0.099808  5  1 NaN\n",
       "2018-11-20 -0.224633  0.534234  1.660768  5  2 NaN\n",
       "2018-11-21 -1.745772  1.174089  0.665705  5  3 NaN\n",
       "2018-11-22  0.950198  1.249518 -0.536279  5  4 NaN"
      ]
     },
     "execution_count": 61,
     "metadata": {},
     "output_type": "execute_result"
    }
   ],
   "source": [
    "df_1 = df.reindex(index=dates[0:4], columns=list(df.columns) + ['F'])\n",
    "df_1"
   ]
  },
  {
   "cell_type": "code",
   "execution_count": 63,
   "metadata": {
    "ExecuteTime": {
     "end_time": "2018-11-19T12:43:41.734923Z",
     "start_time": "2018-11-19T12:43:41.722594Z"
    }
   },
   "outputs": [
    {
     "data": {
      "text/html": [
       "<div>\n",
       "<style scoped>\n",
       "    .dataframe tbody tr th:only-of-type {\n",
       "        vertical-align: middle;\n",
       "    }\n",
       "\n",
       "    .dataframe tbody tr th {\n",
       "        vertical-align: top;\n",
       "    }\n",
       "\n",
       "    .dataframe thead th {\n",
       "        text-align: right;\n",
       "    }\n",
       "</style>\n",
       "<table border=\"1\" class=\"dataframe\">\n",
       "  <thead>\n",
       "    <tr style=\"text-align: right;\">\n",
       "      <th></th>\n",
       "      <th>A</th>\n",
       "      <th>B</th>\n",
       "      <th>C</th>\n",
       "      <th>D</th>\n",
       "      <th>E</th>\n",
       "      <th>F</th>\n",
       "    </tr>\n",
       "  </thead>\n",
       "  <tbody>\n",
       "    <tr>\n",
       "      <th>2018-11-19</th>\n",
       "      <td>0.000000</td>\n",
       "      <td>0.000000</td>\n",
       "      <td>0.099808</td>\n",
       "      <td>5</td>\n",
       "      <td>1</td>\n",
       "      <td>NaN</td>\n",
       "    </tr>\n",
       "    <tr>\n",
       "      <th>2018-11-20</th>\n",
       "      <td>-0.224633</td>\n",
       "      <td>0.534234</td>\n",
       "      <td>1.660768</td>\n",
       "      <td>5</td>\n",
       "      <td>2</td>\n",
       "      <td>NaN</td>\n",
       "    </tr>\n",
       "    <tr>\n",
       "      <th>2018-11-21</th>\n",
       "      <td>-1.745772</td>\n",
       "      <td>1.174089</td>\n",
       "      <td>0.665705</td>\n",
       "      <td>5</td>\n",
       "      <td>3</td>\n",
       "      <td>NaN</td>\n",
       "    </tr>\n",
       "    <tr>\n",
       "      <th>2018-11-22</th>\n",
       "      <td>0.950198</td>\n",
       "      <td>1.249518</td>\n",
       "      <td>-0.536279</td>\n",
       "      <td>5</td>\n",
       "      <td>4</td>\n",
       "      <td>NaN</td>\n",
       "    </tr>\n",
       "  </tbody>\n",
       "</table>\n",
       "</div>"
      ],
      "text/plain": [
       "                   A         B         C  D  E   F\n",
       "2018-11-19  0.000000  0.000000  0.099808  5  1 NaN\n",
       "2018-11-20 -0.224633  0.534234  1.660768  5  2 NaN\n",
       "2018-11-21 -1.745772  1.174089  0.665705  5  3 NaN\n",
       "2018-11-22  0.950198  1.249518 -0.536279  5  4 NaN"
      ]
     },
     "execution_count": 63,
     "metadata": {},
     "output_type": "execute_result"
    }
   ],
   "source": [
    "df_1.dropna(how='any')\n",
    "df_1"
   ]
  },
  {
   "cell_type": "code",
   "execution_count": 64,
   "metadata": {
    "ExecuteTime": {
     "end_time": "2018-11-19T12:44:01.004493Z",
     "start_time": "2018-11-19T12:44:00.993418Z"
    }
   },
   "outputs": [
    {
     "data": {
      "text/html": [
       "<div>\n",
       "<style scoped>\n",
       "    .dataframe tbody tr th:only-of-type {\n",
       "        vertical-align: middle;\n",
       "    }\n",
       "\n",
       "    .dataframe tbody tr th {\n",
       "        vertical-align: top;\n",
       "    }\n",
       "\n",
       "    .dataframe thead th {\n",
       "        text-align: right;\n",
       "    }\n",
       "</style>\n",
       "<table border=\"1\" class=\"dataframe\">\n",
       "  <thead>\n",
       "    <tr style=\"text-align: right;\">\n",
       "      <th></th>\n",
       "      <th>A</th>\n",
       "      <th>B</th>\n",
       "      <th>C</th>\n",
       "      <th>D</th>\n",
       "      <th>E</th>\n",
       "      <th>F</th>\n",
       "    </tr>\n",
       "  </thead>\n",
       "  <tbody>\n",
       "    <tr>\n",
       "      <th>2018-11-19</th>\n",
       "      <td>0.000000</td>\n",
       "      <td>0.000000</td>\n",
       "      <td>0.099808</td>\n",
       "      <td>5</td>\n",
       "      <td>1</td>\n",
       "      <td>NaN</td>\n",
       "    </tr>\n",
       "    <tr>\n",
       "      <th>2018-11-20</th>\n",
       "      <td>-0.224633</td>\n",
       "      <td>0.534234</td>\n",
       "      <td>1.660768</td>\n",
       "      <td>5</td>\n",
       "      <td>2</td>\n",
       "      <td>NaN</td>\n",
       "    </tr>\n",
       "    <tr>\n",
       "      <th>2018-11-21</th>\n",
       "      <td>-1.745772</td>\n",
       "      <td>1.174089</td>\n",
       "      <td>0.665705</td>\n",
       "      <td>5</td>\n",
       "      <td>3</td>\n",
       "      <td>NaN</td>\n",
       "    </tr>\n",
       "    <tr>\n",
       "      <th>2018-11-22</th>\n",
       "      <td>0.950198</td>\n",
       "      <td>1.249518</td>\n",
       "      <td>-0.536279</td>\n",
       "      <td>5</td>\n",
       "      <td>4</td>\n",
       "      <td>NaN</td>\n",
       "    </tr>\n",
       "  </tbody>\n",
       "</table>\n",
       "</div>"
      ],
      "text/plain": [
       "                   A         B         C  D  E   F\n",
       "2018-11-19  0.000000  0.000000  0.099808  5  1 NaN\n",
       "2018-11-20 -0.224633  0.534234  1.660768  5  2 NaN\n",
       "2018-11-21 -1.745772  1.174089  0.665705  5  3 NaN\n",
       "2018-11-22  0.950198  1.249518 -0.536279  5  4 NaN"
      ]
     },
     "execution_count": 64,
     "metadata": {},
     "output_type": "execute_result"
    }
   ],
   "source": [
    "df_1.fillna(value=0)\n",
    "df_1"
   ]
  },
  {
   "cell_type": "markdown",
   "metadata": {},
   "source": [
    "### operations"
   ]
  },
  {
   "cell_type": "markdown",
   "metadata": {},
   "source": [
    "#### stats"
   ]
  },
  {
   "cell_type": "code",
   "execution_count": 65,
   "metadata": {
    "ExecuteTime": {
     "end_time": "2018-11-19T12:46:55.542952Z",
     "start_time": "2018-11-19T12:46:55.537424Z"
    }
   },
   "outputs": [
    {
     "data": {
      "text/plain": [
       "A   -0.223603\n",
       "B    0.204290\n",
       "C   -0.057534\n",
       "D    5.000000\n",
       "E    4.000000\n",
       "dtype: float64"
      ]
     },
     "execution_count": 65,
     "metadata": {},
     "output_type": "execute_result"
    }
   ],
   "source": [
    "df.mean()"
   ]
  },
  {
   "cell_type": "code",
   "execution_count": 66,
   "metadata": {
    "ExecuteTime": {
     "end_time": "2018-11-19T12:47:03.260327Z",
     "start_time": "2018-11-19T12:47:03.254771Z"
    }
   },
   "outputs": [
    {
     "data": {
      "text/plain": [
       "2018-11-19    1.219962\n",
       "2018-11-20    1.794074\n",
       "2018-11-21    1.618805\n",
       "2018-11-22    2.132688\n",
       "2018-11-23    1.403248\n",
       "2018-11-24    2.440511\n",
       "2018-11-25    1.883127\n",
       "Freq: D, dtype: float64"
      ]
     },
     "execution_count": 66,
     "metadata": {},
     "output_type": "execute_result"
    }
   ],
   "source": [
    "df.mean(1)"
   ]
  },
  {
   "cell_type": "code",
   "execution_count": 69,
   "metadata": {
    "ExecuteTime": {
     "end_time": "2018-11-19T12:47:51.769535Z",
     "start_time": "2018-11-19T12:47:51.754475Z"
    }
   },
   "outputs": [
    {
     "data": {
      "text/plain": [
       "2018-11-19    NaN\n",
       "2018-11-20    NaN\n",
       "2018-11-21    1.0\n",
       "2018-11-22    3.0\n",
       "2018-11-23    5.0\n",
       "2018-11-24    NaN\n",
       "2018-11-25    6.0\n",
       "Freq: D, dtype: float64"
      ]
     },
     "execution_count": 69,
     "metadata": {},
     "output_type": "execute_result"
    }
   ],
   "source": [
    "s = pd.Series([1,3,5,np.nan,6,8, 9], index=dates).shift(2)\n",
    "s"
   ]
  },
  {
   "cell_type": "code",
   "execution_count": 70,
   "metadata": {
    "ExecuteTime": {
     "end_time": "2018-11-19T12:47:55.531515Z",
     "start_time": "2018-11-19T12:47:55.521179Z"
    }
   },
   "outputs": [
    {
     "data": {
      "text/html": [
       "<div>\n",
       "<style scoped>\n",
       "    .dataframe tbody tr th:only-of-type {\n",
       "        vertical-align: middle;\n",
       "    }\n",
       "\n",
       "    .dataframe tbody tr th {\n",
       "        vertical-align: top;\n",
       "    }\n",
       "\n",
       "    .dataframe thead th {\n",
       "        text-align: right;\n",
       "    }\n",
       "</style>\n",
       "<table border=\"1\" class=\"dataframe\">\n",
       "  <thead>\n",
       "    <tr style=\"text-align: right;\">\n",
       "      <th></th>\n",
       "      <th>A</th>\n",
       "      <th>B</th>\n",
       "      <th>C</th>\n",
       "      <th>D</th>\n",
       "      <th>E</th>\n",
       "    </tr>\n",
       "  </thead>\n",
       "  <tbody>\n",
       "    <tr>\n",
       "      <th>2018-11-19</th>\n",
       "      <td>0.000000</td>\n",
       "      <td>0.000000</td>\n",
       "      <td>0.099808</td>\n",
       "      <td>5</td>\n",
       "      <td>1</td>\n",
       "    </tr>\n",
       "    <tr>\n",
       "      <th>2018-11-20</th>\n",
       "      <td>-0.224633</td>\n",
       "      <td>0.534234</td>\n",
       "      <td>1.660768</td>\n",
       "      <td>5</td>\n",
       "      <td>2</td>\n",
       "    </tr>\n",
       "    <tr>\n",
       "      <th>2018-11-21</th>\n",
       "      <td>-1.745772</td>\n",
       "      <td>1.174089</td>\n",
       "      <td>0.665705</td>\n",
       "      <td>5</td>\n",
       "      <td>3</td>\n",
       "    </tr>\n",
       "    <tr>\n",
       "      <th>2018-11-22</th>\n",
       "      <td>0.950198</td>\n",
       "      <td>1.249518</td>\n",
       "      <td>-0.536279</td>\n",
       "      <td>5</td>\n",
       "      <td>4</td>\n",
       "    </tr>\n",
       "    <tr>\n",
       "      <th>2018-11-23</th>\n",
       "      <td>-1.040722</td>\n",
       "      <td>-1.666559</td>\n",
       "      <td>-0.276477</td>\n",
       "      <td>5</td>\n",
       "      <td>5</td>\n",
       "    </tr>\n",
       "    <tr>\n",
       "      <th>2018-11-24</th>\n",
       "      <td>1.541927</td>\n",
       "      <td>-0.115470</td>\n",
       "      <td>-0.223904</td>\n",
       "      <td>5</td>\n",
       "      <td>6</td>\n",
       "    </tr>\n",
       "    <tr>\n",
       "      <th>2018-11-25</th>\n",
       "      <td>-1.046223</td>\n",
       "      <td>0.254216</td>\n",
       "      <td>-1.792357</td>\n",
       "      <td>5</td>\n",
       "      <td>7</td>\n",
       "    </tr>\n",
       "  </tbody>\n",
       "</table>\n",
       "</div>"
      ],
      "text/plain": [
       "                   A         B         C  D  E\n",
       "2018-11-19  0.000000  0.000000  0.099808  5  1\n",
       "2018-11-20 -0.224633  0.534234  1.660768  5  2\n",
       "2018-11-21 -1.745772  1.174089  0.665705  5  3\n",
       "2018-11-22  0.950198  1.249518 -0.536279  5  4\n",
       "2018-11-23 -1.040722 -1.666559 -0.276477  5  5\n",
       "2018-11-24  1.541927 -0.115470 -0.223904  5  6\n",
       "2018-11-25 -1.046223  0.254216 -1.792357  5  7"
      ]
     },
     "execution_count": 70,
     "metadata": {},
     "output_type": "execute_result"
    }
   ],
   "source": [
    "df.sub(s, axis='index')\n",
    "df"
   ]
  },
  {
   "cell_type": "markdown",
   "metadata": {},
   "source": [
    "#### apply"
   ]
  },
  {
   "cell_type": "code",
   "execution_count": 71,
   "metadata": {
    "ExecuteTime": {
     "end_time": "2018-11-19T12:48:26.660327Z",
     "start_time": "2018-11-19T12:48:26.640023Z"
    }
   },
   "outputs": [
    {
     "data": {
      "text/plain": [
       "A    3.287699\n",
       "B    2.916078\n",
       "C    3.453125\n",
       "D    0.000000\n",
       "E    6.000000\n",
       "dtype: float64"
      ]
     },
     "execution_count": 71,
     "metadata": {},
     "output_type": "execute_result"
    }
   ],
   "source": [
    "df.apply(np.cumsum)\n",
    "df.apply(lambda x: x.max() - x.min())"
   ]
  },
  {
   "cell_type": "markdown",
   "metadata": {},
   "source": [
    "#### histogramming"
   ]
  },
  {
   "cell_type": "code",
   "execution_count": 74,
   "metadata": {
    "ExecuteTime": {
     "end_time": "2018-11-19T12:49:57.346545Z",
     "start_time": "2018-11-19T12:49:57.338823Z"
    }
   },
   "outputs": [
    {
     "data": {
      "text/plain": [
       "0    2\n",
       "1    1\n",
       "2    1\n",
       "3    0\n",
       "4    3\n",
       "5    4\n",
       "6    2\n",
       "7    3\n",
       "8    1\n",
       "9    0\n",
       "dtype: int64"
      ]
     },
     "execution_count": 74,
     "metadata": {},
     "output_type": "execute_result"
    }
   ],
   "source": [
    "s = pd.Series(np.random.randint(0 ,5, size=10))\n",
    "s"
   ]
  },
  {
   "cell_type": "code",
   "execution_count": 75,
   "metadata": {
    "ExecuteTime": {
     "end_time": "2018-11-19T12:50:06.676492Z",
     "start_time": "2018-11-19T12:50:06.665031Z"
    }
   },
   "outputs": [
    {
     "data": {
      "text/plain": [
       "1    3\n",
       "3    2\n",
       "2    2\n",
       "0    2\n",
       "4    1\n",
       "dtype: int64"
      ]
     },
     "execution_count": 75,
     "metadata": {},
     "output_type": "execute_result"
    }
   ],
   "source": [
    "s.value_counts()"
   ]
  },
  {
   "cell_type": "markdown",
   "metadata": {},
   "source": [
    "#### string methods"
   ]
  },
  {
   "cell_type": "code",
   "execution_count": 76,
   "metadata": {
    "ExecuteTime": {
     "end_time": "2018-11-19T12:51:10.465625Z",
     "start_time": "2018-11-19T12:51:10.452945Z"
    }
   },
   "outputs": [
    {
     "data": {
      "text/plain": [
       "0       a\n",
       "1       b\n",
       "2       c\n",
       "3    aaba\n",
       "4    baca\n",
       "5     NaN\n",
       "6    caba\n",
       "7     dog\n",
       "8     cat\n",
       "dtype: object"
      ]
     },
     "execution_count": 76,
     "metadata": {},
     "output_type": "execute_result"
    }
   ],
   "source": [
    "s = pd.Series(['A', 'B', 'C', 'Aaba', 'Baca', np.nan, 'CABA', 'dog', 'cat'])\n",
    "s.str.lower()"
   ]
  },
  {
   "cell_type": "markdown",
   "metadata": {},
   "source": [
    "### merge"
   ]
  },
  {
   "cell_type": "markdown",
   "metadata": {},
   "source": [
    "#### concat"
   ]
  },
  {
   "cell_type": "code",
   "execution_count": 78,
   "metadata": {
    "ExecuteTime": {
     "end_time": "2018-11-19T12:51:47.937180Z",
     "start_time": "2018-11-19T12:51:47.926489Z"
    }
   },
   "outputs": [
    {
     "data": {
      "text/html": [
       "<div>\n",
       "<style scoped>\n",
       "    .dataframe tbody tr th:only-of-type {\n",
       "        vertical-align: middle;\n",
       "    }\n",
       "\n",
       "    .dataframe tbody tr th {\n",
       "        vertical-align: top;\n",
       "    }\n",
       "\n",
       "    .dataframe thead th {\n",
       "        text-align: right;\n",
       "    }\n",
       "</style>\n",
       "<table border=\"1\" class=\"dataframe\">\n",
       "  <thead>\n",
       "    <tr style=\"text-align: right;\">\n",
       "      <th></th>\n",
       "      <th>0</th>\n",
       "      <th>1</th>\n",
       "      <th>2</th>\n",
       "      <th>3</th>\n",
       "    </tr>\n",
       "  </thead>\n",
       "  <tbody>\n",
       "    <tr>\n",
       "      <th>0</th>\n",
       "      <td>-0.779119</td>\n",
       "      <td>-2.283769</td>\n",
       "      <td>0.186844</td>\n",
       "      <td>-1.124390</td>\n",
       "    </tr>\n",
       "    <tr>\n",
       "      <th>1</th>\n",
       "      <td>-0.434973</td>\n",
       "      <td>-0.266821</td>\n",
       "      <td>-1.176355</td>\n",
       "      <td>-1.499945</td>\n",
       "    </tr>\n",
       "    <tr>\n",
       "      <th>2</th>\n",
       "      <td>-1.453031</td>\n",
       "      <td>0.344708</td>\n",
       "      <td>-0.602276</td>\n",
       "      <td>-1.126065</td>\n",
       "    </tr>\n",
       "    <tr>\n",
       "      <th>3</th>\n",
       "      <td>-0.184858</td>\n",
       "      <td>0.524676</td>\n",
       "      <td>-0.530099</td>\n",
       "      <td>-2.126093</td>\n",
       "    </tr>\n",
       "    <tr>\n",
       "      <th>4</th>\n",
       "      <td>-1.159692</td>\n",
       "      <td>-1.964022</td>\n",
       "      <td>-0.681250</td>\n",
       "      <td>2.878112</td>\n",
       "    </tr>\n",
       "    <tr>\n",
       "      <th>5</th>\n",
       "      <td>-0.278787</td>\n",
       "      <td>-1.485891</td>\n",
       "      <td>-2.197541</td>\n",
       "      <td>0.062322</td>\n",
       "    </tr>\n",
       "    <tr>\n",
       "      <th>6</th>\n",
       "      <td>-1.245239</td>\n",
       "      <td>-0.239958</td>\n",
       "      <td>-0.380908</td>\n",
       "      <td>0.612250</td>\n",
       "    </tr>\n",
       "    <tr>\n",
       "      <th>7</th>\n",
       "      <td>0.243248</td>\n",
       "      <td>1.758749</td>\n",
       "      <td>0.435721</td>\n",
       "      <td>-0.064311</td>\n",
       "    </tr>\n",
       "    <tr>\n",
       "      <th>8</th>\n",
       "      <td>-0.705619</td>\n",
       "      <td>0.284942</td>\n",
       "      <td>-1.293471</td>\n",
       "      <td>0.114714</td>\n",
       "    </tr>\n",
       "    <tr>\n",
       "      <th>9</th>\n",
       "      <td>0.460195</td>\n",
       "      <td>-0.179484</td>\n",
       "      <td>-0.633685</td>\n",
       "      <td>-0.034662</td>\n",
       "    </tr>\n",
       "  </tbody>\n",
       "</table>\n",
       "</div>"
      ],
      "text/plain": [
       "          0         1         2         3\n",
       "0 -0.779119 -2.283769  0.186844 -1.124390\n",
       "1 -0.434973 -0.266821 -1.176355 -1.499945\n",
       "2 -1.453031  0.344708 -0.602276 -1.126065\n",
       "3 -0.184858  0.524676 -0.530099 -2.126093\n",
       "4 -1.159692 -1.964022 -0.681250  2.878112\n",
       "5 -0.278787 -1.485891 -2.197541  0.062322\n",
       "6 -1.245239 -0.239958 -0.380908  0.612250\n",
       "7  0.243248  1.758749  0.435721 -0.064311\n",
       "8 -0.705619  0.284942 -1.293471  0.114714\n",
       "9  0.460195 -0.179484 -0.633685 -0.034662"
      ]
     },
     "execution_count": 78,
     "metadata": {},
     "output_type": "execute_result"
    }
   ],
   "source": [
    "df = pd.DataFrame(np.random.randn(10, 4))\n",
    "df"
   ]
  },
  {
   "cell_type": "code",
   "execution_count": 79,
   "metadata": {
    "ExecuteTime": {
     "end_time": "2018-11-19T12:52:41.095009Z",
     "start_time": "2018-11-19T12:52:41.082751Z"
    }
   },
   "outputs": [
    {
     "data": {
      "text/html": [
       "<div>\n",
       "<style scoped>\n",
       "    .dataframe tbody tr th:only-of-type {\n",
       "        vertical-align: middle;\n",
       "    }\n",
       "\n",
       "    .dataframe tbody tr th {\n",
       "        vertical-align: top;\n",
       "    }\n",
       "\n",
       "    .dataframe thead th {\n",
       "        text-align: right;\n",
       "    }\n",
       "</style>\n",
       "<table border=\"1\" class=\"dataframe\">\n",
       "  <thead>\n",
       "    <tr style=\"text-align: right;\">\n",
       "      <th></th>\n",
       "      <th>0</th>\n",
       "      <th>1</th>\n",
       "      <th>2</th>\n",
       "      <th>3</th>\n",
       "    </tr>\n",
       "  </thead>\n",
       "  <tbody>\n",
       "    <tr>\n",
       "      <th>0</th>\n",
       "      <td>-0.779119</td>\n",
       "      <td>-2.283769</td>\n",
       "      <td>0.186844</td>\n",
       "      <td>-1.124390</td>\n",
       "    </tr>\n",
       "    <tr>\n",
       "      <th>1</th>\n",
       "      <td>-0.434973</td>\n",
       "      <td>-0.266821</td>\n",
       "      <td>-1.176355</td>\n",
       "      <td>-1.499945</td>\n",
       "    </tr>\n",
       "    <tr>\n",
       "      <th>2</th>\n",
       "      <td>-1.453031</td>\n",
       "      <td>0.344708</td>\n",
       "      <td>-0.602276</td>\n",
       "      <td>-1.126065</td>\n",
       "    </tr>\n",
       "    <tr>\n",
       "      <th>3</th>\n",
       "      <td>-0.184858</td>\n",
       "      <td>0.524676</td>\n",
       "      <td>-0.530099</td>\n",
       "      <td>-2.126093</td>\n",
       "    </tr>\n",
       "    <tr>\n",
       "      <th>4</th>\n",
       "      <td>-1.159692</td>\n",
       "      <td>-1.964022</td>\n",
       "      <td>-0.681250</td>\n",
       "      <td>2.878112</td>\n",
       "    </tr>\n",
       "    <tr>\n",
       "      <th>5</th>\n",
       "      <td>-0.278787</td>\n",
       "      <td>-1.485891</td>\n",
       "      <td>-2.197541</td>\n",
       "      <td>0.062322</td>\n",
       "    </tr>\n",
       "    <tr>\n",
       "      <th>6</th>\n",
       "      <td>-1.245239</td>\n",
       "      <td>-0.239958</td>\n",
       "      <td>-0.380908</td>\n",
       "      <td>0.612250</td>\n",
       "    </tr>\n",
       "    <tr>\n",
       "      <th>7</th>\n",
       "      <td>0.243248</td>\n",
       "      <td>1.758749</td>\n",
       "      <td>0.435721</td>\n",
       "      <td>-0.064311</td>\n",
       "    </tr>\n",
       "    <tr>\n",
       "      <th>8</th>\n",
       "      <td>-0.705619</td>\n",
       "      <td>0.284942</td>\n",
       "      <td>-1.293471</td>\n",
       "      <td>0.114714</td>\n",
       "    </tr>\n",
       "    <tr>\n",
       "      <th>9</th>\n",
       "      <td>0.460195</td>\n",
       "      <td>-0.179484</td>\n",
       "      <td>-0.633685</td>\n",
       "      <td>-0.034662</td>\n",
       "    </tr>\n",
       "  </tbody>\n",
       "</table>\n",
       "</div>"
      ],
      "text/plain": [
       "          0         1         2         3\n",
       "0 -0.779119 -2.283769  0.186844 -1.124390\n",
       "1 -0.434973 -0.266821 -1.176355 -1.499945\n",
       "2 -1.453031  0.344708 -0.602276 -1.126065\n",
       "3 -0.184858  0.524676 -0.530099 -2.126093\n",
       "4 -1.159692 -1.964022 -0.681250  2.878112\n",
       "5 -0.278787 -1.485891 -2.197541  0.062322\n",
       "6 -1.245239 -0.239958 -0.380908  0.612250\n",
       "7  0.243248  1.758749  0.435721 -0.064311\n",
       "8 -0.705619  0.284942 -1.293471  0.114714\n",
       "9  0.460195 -0.179484 -0.633685 -0.034662"
      ]
     },
     "execution_count": 79,
     "metadata": {},
     "output_type": "execute_result"
    }
   ],
   "source": [
    "# break it into pieces\n",
    "pieces = [df[:3], df[3:7], df[7:]]\n",
    "pd.concat(pieces)"
   ]
  },
  {
   "cell_type": "markdown",
   "metadata": {},
   "source": [
    "#### join"
   ]
  },
  {
   "cell_type": "code",
   "execution_count": 80,
   "metadata": {
    "ExecuteTime": {
     "end_time": "2018-11-19T12:53:58.384471Z",
     "start_time": "2018-11-19T12:53:58.380414Z"
    }
   },
   "outputs": [],
   "source": [
    "left = pd.DataFrame({'key': ['foo', 'foo'], 'lval': [1, 2]})\n",
    "right = pd.DataFrame({'key': ['foo', 'foo'], 'rval': [4, 5]})"
   ]
  },
  {
   "cell_type": "code",
   "execution_count": 81,
   "metadata": {
    "ExecuteTime": {
     "end_time": "2018-11-19T12:53:59.029521Z",
     "start_time": "2018-11-19T12:53:59.021205Z"
    }
   },
   "outputs": [
    {
     "data": {
      "text/html": [
       "<div>\n",
       "<style scoped>\n",
       "    .dataframe tbody tr th:only-of-type {\n",
       "        vertical-align: middle;\n",
       "    }\n",
       "\n",
       "    .dataframe tbody tr th {\n",
       "        vertical-align: top;\n",
       "    }\n",
       "\n",
       "    .dataframe thead th {\n",
       "        text-align: right;\n",
       "    }\n",
       "</style>\n",
       "<table border=\"1\" class=\"dataframe\">\n",
       "  <thead>\n",
       "    <tr style=\"text-align: right;\">\n",
       "      <th></th>\n",
       "      <th>key</th>\n",
       "      <th>lval</th>\n",
       "    </tr>\n",
       "  </thead>\n",
       "  <tbody>\n",
       "    <tr>\n",
       "      <th>0</th>\n",
       "      <td>foo</td>\n",
       "      <td>1</td>\n",
       "    </tr>\n",
       "    <tr>\n",
       "      <th>1</th>\n",
       "      <td>foo</td>\n",
       "      <td>2</td>\n",
       "    </tr>\n",
       "  </tbody>\n",
       "</table>\n",
       "</div>"
      ],
      "text/plain": [
       "   key  lval\n",
       "0  foo     1\n",
       "1  foo     2"
      ]
     },
     "execution_count": 81,
     "metadata": {},
     "output_type": "execute_result"
    }
   ],
   "source": [
    "left"
   ]
  },
  {
   "cell_type": "code",
   "execution_count": 82,
   "metadata": {
    "ExecuteTime": {
     "end_time": "2018-11-19T12:54:03.439283Z",
     "start_time": "2018-11-19T12:54:03.432116Z"
    }
   },
   "outputs": [
    {
     "data": {
      "text/html": [
       "<div>\n",
       "<style scoped>\n",
       "    .dataframe tbody tr th:only-of-type {\n",
       "        vertical-align: middle;\n",
       "    }\n",
       "\n",
       "    .dataframe tbody tr th {\n",
       "        vertical-align: top;\n",
       "    }\n",
       "\n",
       "    .dataframe thead th {\n",
       "        text-align: right;\n",
       "    }\n",
       "</style>\n",
       "<table border=\"1\" class=\"dataframe\">\n",
       "  <thead>\n",
       "    <tr style=\"text-align: right;\">\n",
       "      <th></th>\n",
       "      <th>key</th>\n",
       "      <th>rval</th>\n",
       "    </tr>\n",
       "  </thead>\n",
       "  <tbody>\n",
       "    <tr>\n",
       "      <th>0</th>\n",
       "      <td>foo</td>\n",
       "      <td>4</td>\n",
       "    </tr>\n",
       "    <tr>\n",
       "      <th>1</th>\n",
       "      <td>foo</td>\n",
       "      <td>5</td>\n",
       "    </tr>\n",
       "  </tbody>\n",
       "</table>\n",
       "</div>"
      ],
      "text/plain": [
       "   key  rval\n",
       "0  foo     4\n",
       "1  foo     5"
      ]
     },
     "execution_count": 82,
     "metadata": {},
     "output_type": "execute_result"
    }
   ],
   "source": [
    "right"
   ]
  },
  {
   "cell_type": "code",
   "execution_count": 83,
   "metadata": {
    "ExecuteTime": {
     "end_time": "2018-11-19T12:54:14.679954Z",
     "start_time": "2018-11-19T12:54:14.660378Z"
    }
   },
   "outputs": [
    {
     "data": {
      "text/html": [
       "<div>\n",
       "<style scoped>\n",
       "    .dataframe tbody tr th:only-of-type {\n",
       "        vertical-align: middle;\n",
       "    }\n",
       "\n",
       "    .dataframe tbody tr th {\n",
       "        vertical-align: top;\n",
       "    }\n",
       "\n",
       "    .dataframe thead th {\n",
       "        text-align: right;\n",
       "    }\n",
       "</style>\n",
       "<table border=\"1\" class=\"dataframe\">\n",
       "  <thead>\n",
       "    <tr style=\"text-align: right;\">\n",
       "      <th></th>\n",
       "      <th>key</th>\n",
       "      <th>lval</th>\n",
       "      <th>rval</th>\n",
       "    </tr>\n",
       "  </thead>\n",
       "  <tbody>\n",
       "    <tr>\n",
       "      <th>0</th>\n",
       "      <td>foo</td>\n",
       "      <td>1</td>\n",
       "      <td>4</td>\n",
       "    </tr>\n",
       "    <tr>\n",
       "      <th>1</th>\n",
       "      <td>foo</td>\n",
       "      <td>1</td>\n",
       "      <td>5</td>\n",
       "    </tr>\n",
       "    <tr>\n",
       "      <th>2</th>\n",
       "      <td>foo</td>\n",
       "      <td>2</td>\n",
       "      <td>4</td>\n",
       "    </tr>\n",
       "    <tr>\n",
       "      <th>3</th>\n",
       "      <td>foo</td>\n",
       "      <td>2</td>\n",
       "      <td>5</td>\n",
       "    </tr>\n",
       "  </tbody>\n",
       "</table>\n",
       "</div>"
      ],
      "text/plain": [
       "   key  lval  rval\n",
       "0  foo     1     4\n",
       "1  foo     1     5\n",
       "2  foo     2     4\n",
       "3  foo     2     5"
      ]
     },
     "execution_count": 83,
     "metadata": {},
     "output_type": "execute_result"
    }
   ],
   "source": [
    "pd.merge(left, right, on='key')"
   ]
  },
  {
   "cell_type": "markdown",
   "metadata": {},
   "source": [
    "#### append"
   ]
  },
  {
   "cell_type": "code",
   "execution_count": 84,
   "metadata": {
    "ExecuteTime": {
     "end_time": "2018-11-19T12:54:50.195976Z",
     "start_time": "2018-11-19T12:54:50.184536Z"
    }
   },
   "outputs": [
    {
     "data": {
      "text/html": [
       "<div>\n",
       "<style scoped>\n",
       "    .dataframe tbody tr th:only-of-type {\n",
       "        vertical-align: middle;\n",
       "    }\n",
       "\n",
       "    .dataframe tbody tr th {\n",
       "        vertical-align: top;\n",
       "    }\n",
       "\n",
       "    .dataframe thead th {\n",
       "        text-align: right;\n",
       "    }\n",
       "</style>\n",
       "<table border=\"1\" class=\"dataframe\">\n",
       "  <thead>\n",
       "    <tr style=\"text-align: right;\">\n",
       "      <th></th>\n",
       "      <th>A</th>\n",
       "      <th>B</th>\n",
       "      <th>C</th>\n",
       "      <th>D</th>\n",
       "    </tr>\n",
       "  </thead>\n",
       "  <tbody>\n",
       "    <tr>\n",
       "      <th>0</th>\n",
       "      <td>1.548349</td>\n",
       "      <td>-0.028805</td>\n",
       "      <td>0.666021</td>\n",
       "      <td>-0.685614</td>\n",
       "    </tr>\n",
       "    <tr>\n",
       "      <th>1</th>\n",
       "      <td>0.412232</td>\n",
       "      <td>-0.690321</td>\n",
       "      <td>1.691081</td>\n",
       "      <td>-0.413179</td>\n",
       "    </tr>\n",
       "    <tr>\n",
       "      <th>2</th>\n",
       "      <td>-1.802436</td>\n",
       "      <td>-0.620125</td>\n",
       "      <td>0.536207</td>\n",
       "      <td>0.561336</td>\n",
       "    </tr>\n",
       "    <tr>\n",
       "      <th>3</th>\n",
       "      <td>2.487040</td>\n",
       "      <td>-1.476058</td>\n",
       "      <td>-0.610817</td>\n",
       "      <td>0.332331</td>\n",
       "    </tr>\n",
       "    <tr>\n",
       "      <th>4</th>\n",
       "      <td>-0.690714</td>\n",
       "      <td>-0.054136</td>\n",
       "      <td>1.568035</td>\n",
       "      <td>1.340811</td>\n",
       "    </tr>\n",
       "    <tr>\n",
       "      <th>5</th>\n",
       "      <td>0.098559</td>\n",
       "      <td>-1.766347</td>\n",
       "      <td>-1.964073</td>\n",
       "      <td>-0.536862</td>\n",
       "    </tr>\n",
       "    <tr>\n",
       "      <th>6</th>\n",
       "      <td>0.623852</td>\n",
       "      <td>0.634743</td>\n",
       "      <td>-0.872377</td>\n",
       "      <td>0.404530</td>\n",
       "    </tr>\n",
       "    <tr>\n",
       "      <th>7</th>\n",
       "      <td>-0.550621</td>\n",
       "      <td>1.179314</td>\n",
       "      <td>-0.120286</td>\n",
       "      <td>1.490543</td>\n",
       "    </tr>\n",
       "  </tbody>\n",
       "</table>\n",
       "</div>"
      ],
      "text/plain": [
       "          A         B         C         D\n",
       "0  1.548349 -0.028805  0.666021 -0.685614\n",
       "1  0.412232 -0.690321  1.691081 -0.413179\n",
       "2 -1.802436 -0.620125  0.536207  0.561336\n",
       "3  2.487040 -1.476058 -0.610817  0.332331\n",
       "4 -0.690714 -0.054136  1.568035  1.340811\n",
       "5  0.098559 -1.766347 -1.964073 -0.536862\n",
       "6  0.623852  0.634743 -0.872377  0.404530\n",
       "7 -0.550621  1.179314 -0.120286  1.490543"
      ]
     },
     "execution_count": 84,
     "metadata": {},
     "output_type": "execute_result"
    }
   ],
   "source": [
    "df = pd.DataFrame(np.random.randn(8, 4), columns=['A','B','C','D'])\n",
    "df"
   ]
  },
  {
   "cell_type": "code",
   "execution_count": 85,
   "metadata": {
    "ExecuteTime": {
     "end_time": "2018-11-19T12:54:56.873093Z",
     "start_time": "2018-11-19T12:54:56.859435Z"
    }
   },
   "outputs": [
    {
     "data": {
      "text/html": [
       "<div>\n",
       "<style scoped>\n",
       "    .dataframe tbody tr th:only-of-type {\n",
       "        vertical-align: middle;\n",
       "    }\n",
       "\n",
       "    .dataframe tbody tr th {\n",
       "        vertical-align: top;\n",
       "    }\n",
       "\n",
       "    .dataframe thead th {\n",
       "        text-align: right;\n",
       "    }\n",
       "</style>\n",
       "<table border=\"1\" class=\"dataframe\">\n",
       "  <thead>\n",
       "    <tr style=\"text-align: right;\">\n",
       "      <th></th>\n",
       "      <th>A</th>\n",
       "      <th>B</th>\n",
       "      <th>C</th>\n",
       "      <th>D</th>\n",
       "    </tr>\n",
       "  </thead>\n",
       "  <tbody>\n",
       "    <tr>\n",
       "      <th>0</th>\n",
       "      <td>1.548349</td>\n",
       "      <td>-0.028805</td>\n",
       "      <td>0.666021</td>\n",
       "      <td>-0.685614</td>\n",
       "    </tr>\n",
       "    <tr>\n",
       "      <th>1</th>\n",
       "      <td>0.412232</td>\n",
       "      <td>-0.690321</td>\n",
       "      <td>1.691081</td>\n",
       "      <td>-0.413179</td>\n",
       "    </tr>\n",
       "    <tr>\n",
       "      <th>2</th>\n",
       "      <td>-1.802436</td>\n",
       "      <td>-0.620125</td>\n",
       "      <td>0.536207</td>\n",
       "      <td>0.561336</td>\n",
       "    </tr>\n",
       "    <tr>\n",
       "      <th>3</th>\n",
       "      <td>2.487040</td>\n",
       "      <td>-1.476058</td>\n",
       "      <td>-0.610817</td>\n",
       "      <td>0.332331</td>\n",
       "    </tr>\n",
       "    <tr>\n",
       "      <th>4</th>\n",
       "      <td>-0.690714</td>\n",
       "      <td>-0.054136</td>\n",
       "      <td>1.568035</td>\n",
       "      <td>1.340811</td>\n",
       "    </tr>\n",
       "    <tr>\n",
       "      <th>5</th>\n",
       "      <td>0.098559</td>\n",
       "      <td>-1.766347</td>\n",
       "      <td>-1.964073</td>\n",
       "      <td>-0.536862</td>\n",
       "    </tr>\n",
       "    <tr>\n",
       "      <th>6</th>\n",
       "      <td>0.623852</td>\n",
       "      <td>0.634743</td>\n",
       "      <td>-0.872377</td>\n",
       "      <td>0.404530</td>\n",
       "    </tr>\n",
       "    <tr>\n",
       "      <th>7</th>\n",
       "      <td>-0.550621</td>\n",
       "      <td>1.179314</td>\n",
       "      <td>-0.120286</td>\n",
       "      <td>1.490543</td>\n",
       "    </tr>\n",
       "    <tr>\n",
       "      <th>8</th>\n",
       "      <td>2.487040</td>\n",
       "      <td>-1.476058</td>\n",
       "      <td>-0.610817</td>\n",
       "      <td>0.332331</td>\n",
       "    </tr>\n",
       "  </tbody>\n",
       "</table>\n",
       "</div>"
      ],
      "text/plain": [
       "          A         B         C         D\n",
       "0  1.548349 -0.028805  0.666021 -0.685614\n",
       "1  0.412232 -0.690321  1.691081 -0.413179\n",
       "2 -1.802436 -0.620125  0.536207  0.561336\n",
       "3  2.487040 -1.476058 -0.610817  0.332331\n",
       "4 -0.690714 -0.054136  1.568035  1.340811\n",
       "5  0.098559 -1.766347 -1.964073 -0.536862\n",
       "6  0.623852  0.634743 -0.872377  0.404530\n",
       "7 -0.550621  1.179314 -0.120286  1.490543\n",
       "8  2.487040 -1.476058 -0.610817  0.332331"
      ]
     },
     "execution_count": 85,
     "metadata": {},
     "output_type": "execute_result"
    }
   ],
   "source": [
    "s = df.iloc[3]\n",
    "df.append(s, ignore_index=True)"
   ]
  },
  {
   "cell_type": "markdown",
   "metadata": {},
   "source": [
    "#### grouping"
   ]
  },
  {
   "cell_type": "code",
   "execution_count": 86,
   "metadata": {
    "ExecuteTime": {
     "end_time": "2018-11-19T15:01:49.347169Z",
     "start_time": "2018-11-19T15:01:49.309051Z"
    }
   },
   "outputs": [
    {
     "data": {
      "text/html": [
       "<div>\n",
       "<style scoped>\n",
       "    .dataframe tbody tr th:only-of-type {\n",
       "        vertical-align: middle;\n",
       "    }\n",
       "\n",
       "    .dataframe tbody tr th {\n",
       "        vertical-align: top;\n",
       "    }\n",
       "\n",
       "    .dataframe thead th {\n",
       "        text-align: right;\n",
       "    }\n",
       "</style>\n",
       "<table border=\"1\" class=\"dataframe\">\n",
       "  <thead>\n",
       "    <tr style=\"text-align: right;\">\n",
       "      <th></th>\n",
       "      <th>A</th>\n",
       "      <th>B</th>\n",
       "      <th>C</th>\n",
       "      <th>D</th>\n",
       "    </tr>\n",
       "  </thead>\n",
       "  <tbody>\n",
       "    <tr>\n",
       "      <th>0</th>\n",
       "      <td>foo</td>\n",
       "      <td>one</td>\n",
       "      <td>0.169119</td>\n",
       "      <td>0.410292</td>\n",
       "    </tr>\n",
       "    <tr>\n",
       "      <th>1</th>\n",
       "      <td>bar</td>\n",
       "      <td>one</td>\n",
       "      <td>1.439932</td>\n",
       "      <td>1.473251</td>\n",
       "    </tr>\n",
       "    <tr>\n",
       "      <th>2</th>\n",
       "      <td>foo</td>\n",
       "      <td>two</td>\n",
       "      <td>1.550012</td>\n",
       "      <td>0.849196</td>\n",
       "    </tr>\n",
       "    <tr>\n",
       "      <th>3</th>\n",
       "      <td>bar</td>\n",
       "      <td>three</td>\n",
       "      <td>0.178508</td>\n",
       "      <td>-0.661349</td>\n",
       "    </tr>\n",
       "    <tr>\n",
       "      <th>4</th>\n",
       "      <td>foo</td>\n",
       "      <td>two</td>\n",
       "      <td>1.194641</td>\n",
       "      <td>-0.669454</td>\n",
       "    </tr>\n",
       "    <tr>\n",
       "      <th>5</th>\n",
       "      <td>bar</td>\n",
       "      <td>two</td>\n",
       "      <td>0.087808</td>\n",
       "      <td>-0.509471</td>\n",
       "    </tr>\n",
       "    <tr>\n",
       "      <th>6</th>\n",
       "      <td>foo</td>\n",
       "      <td>one</td>\n",
       "      <td>0.497625</td>\n",
       "      <td>1.116634</td>\n",
       "    </tr>\n",
       "    <tr>\n",
       "      <th>7</th>\n",
       "      <td>foo</td>\n",
       "      <td>three</td>\n",
       "      <td>0.668104</td>\n",
       "      <td>1.280921</td>\n",
       "    </tr>\n",
       "  </tbody>\n",
       "</table>\n",
       "</div>"
      ],
      "text/plain": [
       "     A      B         C         D\n",
       "0  foo    one  0.169119  0.410292\n",
       "1  bar    one  1.439932  1.473251\n",
       "2  foo    two  1.550012  0.849196\n",
       "3  bar  three  0.178508 -0.661349\n",
       "4  foo    two  1.194641 -0.669454\n",
       "5  bar    two  0.087808 -0.509471\n",
       "6  foo    one  0.497625  1.116634\n",
       "7  foo  three  0.668104  1.280921"
      ]
     },
     "execution_count": 86,
     "metadata": {},
     "output_type": "execute_result"
    }
   ],
   "source": [
    "df = pd.DataFrame({'A' : ['foo', 'bar', 'foo', 'bar',\n",
    "                          'foo', 'bar', 'foo', 'foo'],\n",
    "                   'B' : ['one', 'one', 'two', 'three',\n",
    "                          'two', 'two', 'one', 'three'],\n",
    "                   'C' : np.random.randn(8),\n",
    "                   'D' : np.random.randn(8)})\n",
    "df"
   ]
  },
  {
   "cell_type": "code",
   "execution_count": 87,
   "metadata": {
    "ExecuteTime": {
     "end_time": "2018-11-19T15:03:25.160167Z",
     "start_time": "2018-11-19T15:03:25.108723Z"
    }
   },
   "outputs": [
    {
     "data": {
      "text/html": [
       "<div>\n",
       "<style scoped>\n",
       "    .dataframe tbody tr th:only-of-type {\n",
       "        vertical-align: middle;\n",
       "    }\n",
       "\n",
       "    .dataframe tbody tr th {\n",
       "        vertical-align: top;\n",
       "    }\n",
       "\n",
       "    .dataframe thead th {\n",
       "        text-align: right;\n",
       "    }\n",
       "</style>\n",
       "<table border=\"1\" class=\"dataframe\">\n",
       "  <thead>\n",
       "    <tr style=\"text-align: right;\">\n",
       "      <th></th>\n",
       "      <th>C</th>\n",
       "      <th>D</th>\n",
       "    </tr>\n",
       "    <tr>\n",
       "      <th>A</th>\n",
       "      <th></th>\n",
       "      <th></th>\n",
       "    </tr>\n",
       "  </thead>\n",
       "  <tbody>\n",
       "    <tr>\n",
       "      <th>bar</th>\n",
       "      <td>1.706249</td>\n",
       "      <td>0.302431</td>\n",
       "    </tr>\n",
       "    <tr>\n",
       "      <th>foo</th>\n",
       "      <td>4.079500</td>\n",
       "      <td>2.987588</td>\n",
       "    </tr>\n",
       "  </tbody>\n",
       "</table>\n",
       "</div>"
      ],
      "text/plain": [
       "            C         D\n",
       "A                      \n",
       "bar  1.706249  0.302431\n",
       "foo  4.079500  2.987588"
      ]
     },
     "execution_count": 87,
     "metadata": {},
     "output_type": "execute_result"
    }
   ],
   "source": [
    "df.groupby('A').sum()"
   ]
  },
  {
   "cell_type": "code",
   "execution_count": 88,
   "metadata": {
    "ExecuteTime": {
     "end_time": "2018-11-19T15:03:53.010573Z",
     "start_time": "2018-11-19T15:03:52.990845Z"
    }
   },
   "outputs": [
    {
     "data": {
      "text/html": [
       "<div>\n",
       "<style scoped>\n",
       "    .dataframe tbody tr th:only-of-type {\n",
       "        vertical-align: middle;\n",
       "    }\n",
       "\n",
       "    .dataframe tbody tr th {\n",
       "        vertical-align: top;\n",
       "    }\n",
       "\n",
       "    .dataframe thead th {\n",
       "        text-align: right;\n",
       "    }\n",
       "</style>\n",
       "<table border=\"1\" class=\"dataframe\">\n",
       "  <thead>\n",
       "    <tr style=\"text-align: right;\">\n",
       "      <th></th>\n",
       "      <th></th>\n",
       "      <th>C</th>\n",
       "      <th>D</th>\n",
       "    </tr>\n",
       "    <tr>\n",
       "      <th>A</th>\n",
       "      <th>B</th>\n",
       "      <th></th>\n",
       "      <th></th>\n",
       "    </tr>\n",
       "  </thead>\n",
       "  <tbody>\n",
       "    <tr>\n",
       "      <th rowspan=\"3\" valign=\"top\">bar</th>\n",
       "      <th>one</th>\n",
       "      <td>1.439932</td>\n",
       "      <td>1.473251</td>\n",
       "    </tr>\n",
       "    <tr>\n",
       "      <th>three</th>\n",
       "      <td>0.178508</td>\n",
       "      <td>-0.661349</td>\n",
       "    </tr>\n",
       "    <tr>\n",
       "      <th>two</th>\n",
       "      <td>0.087808</td>\n",
       "      <td>-0.509471</td>\n",
       "    </tr>\n",
       "    <tr>\n",
       "      <th rowspan=\"3\" valign=\"top\">foo</th>\n",
       "      <th>one</th>\n",
       "      <td>0.666744</td>\n",
       "      <td>1.526926</td>\n",
       "    </tr>\n",
       "    <tr>\n",
       "      <th>three</th>\n",
       "      <td>0.668104</td>\n",
       "      <td>1.280921</td>\n",
       "    </tr>\n",
       "    <tr>\n",
       "      <th>two</th>\n",
       "      <td>2.744653</td>\n",
       "      <td>0.179742</td>\n",
       "    </tr>\n",
       "  </tbody>\n",
       "</table>\n",
       "</div>"
      ],
      "text/plain": [
       "                  C         D\n",
       "A   B                        \n",
       "bar one    1.439932  1.473251\n",
       "    three  0.178508 -0.661349\n",
       "    two    0.087808 -0.509471\n",
       "foo one    0.666744  1.526926\n",
       "    three  0.668104  1.280921\n",
       "    two    2.744653  0.179742"
      ]
     },
     "execution_count": 88,
     "metadata": {},
     "output_type": "execute_result"
    }
   ],
   "source": [
    "df.groupby(['A','B']).sum()"
   ]
  },
  {
   "cell_type": "markdown",
   "metadata": {},
   "source": [
    "#### reshaping"
   ]
  },
  {
   "cell_type": "code",
   "execution_count": 89,
   "metadata": {
    "ExecuteTime": {
     "end_time": "2018-11-19T15:05:32.065384Z",
     "start_time": "2018-11-19T15:05:32.047377Z"
    }
   },
   "outputs": [
    {
     "data": {
      "text/html": [
       "<div>\n",
       "<style scoped>\n",
       "    .dataframe tbody tr th:only-of-type {\n",
       "        vertical-align: middle;\n",
       "    }\n",
       "\n",
       "    .dataframe tbody tr th {\n",
       "        vertical-align: top;\n",
       "    }\n",
       "\n",
       "    .dataframe thead th {\n",
       "        text-align: right;\n",
       "    }\n",
       "</style>\n",
       "<table border=\"1\" class=\"dataframe\">\n",
       "  <thead>\n",
       "    <tr style=\"text-align: right;\">\n",
       "      <th></th>\n",
       "      <th></th>\n",
       "      <th>A</th>\n",
       "      <th>B</th>\n",
       "    </tr>\n",
       "    <tr>\n",
       "      <th>first</th>\n",
       "      <th>second</th>\n",
       "      <th></th>\n",
       "      <th></th>\n",
       "    </tr>\n",
       "  </thead>\n",
       "  <tbody>\n",
       "    <tr>\n",
       "      <th rowspan=\"2\" valign=\"top\">bar</th>\n",
       "      <th>one</th>\n",
       "      <td>-1.247314</td>\n",
       "      <td>1.071972</td>\n",
       "    </tr>\n",
       "    <tr>\n",
       "      <th>two</th>\n",
       "      <td>1.967387</td>\n",
       "      <td>-0.938298</td>\n",
       "    </tr>\n",
       "    <tr>\n",
       "      <th rowspan=\"2\" valign=\"top\">baz</th>\n",
       "      <th>one</th>\n",
       "      <td>-0.537018</td>\n",
       "      <td>-1.607650</td>\n",
       "    </tr>\n",
       "    <tr>\n",
       "      <th>two</th>\n",
       "      <td>0.810562</td>\n",
       "      <td>-0.550325</td>\n",
       "    </tr>\n",
       "    <tr>\n",
       "      <th rowspan=\"2\" valign=\"top\">foo</th>\n",
       "      <th>one</th>\n",
       "      <td>-1.836947</td>\n",
       "      <td>0.021947</td>\n",
       "    </tr>\n",
       "    <tr>\n",
       "      <th>two</th>\n",
       "      <td>1.279081</td>\n",
       "      <td>-0.181178</td>\n",
       "    </tr>\n",
       "    <tr>\n",
       "      <th rowspan=\"2\" valign=\"top\">qux</th>\n",
       "      <th>one</th>\n",
       "      <td>-0.244000</td>\n",
       "      <td>0.594153</td>\n",
       "    </tr>\n",
       "    <tr>\n",
       "      <th>two</th>\n",
       "      <td>-0.588223</td>\n",
       "      <td>-0.334459</td>\n",
       "    </tr>\n",
       "  </tbody>\n",
       "</table>\n",
       "</div>"
      ],
      "text/plain": [
       "                     A         B\n",
       "first second                    \n",
       "bar   one    -1.247314  1.071972\n",
       "      two     1.967387 -0.938298\n",
       "baz   one    -0.537018 -1.607650\n",
       "      two     0.810562 -0.550325\n",
       "foo   one    -1.836947  0.021947\n",
       "      two     1.279081 -0.181178\n",
       "qux   one    -0.244000  0.594153\n",
       "      two    -0.588223 -0.334459"
      ]
     },
     "execution_count": 89,
     "metadata": {},
     "output_type": "execute_result"
    }
   ],
   "source": [
    "tuples = list(zip(*[['bar', 'bar', 'baz', 'baz',\n",
    "                     'foo', 'foo', 'qux', 'qux'],\n",
    "                    ['one', 'two', 'one', 'two',\n",
    "                     'one', 'two', 'one', 'two']]))\n",
    "index = pd.MultiIndex.from_tuples(tuples, names=['first', 'second'])\n",
    "df = pd.DataFrame(np.random.randn(8, 2), index=index, columns=['A', 'B'])\n",
    "df"
   ]
  },
  {
   "cell_type": "code",
   "execution_count": 90,
   "metadata": {
    "ExecuteTime": {
     "end_time": "2018-11-19T15:06:05.392794Z",
     "start_time": "2018-11-19T15:06:05.376792Z"
    }
   },
   "outputs": [
    {
     "data": {
      "text/html": [
       "<div>\n",
       "<style scoped>\n",
       "    .dataframe tbody tr th:only-of-type {\n",
       "        vertical-align: middle;\n",
       "    }\n",
       "\n",
       "    .dataframe tbody tr th {\n",
       "        vertical-align: top;\n",
       "    }\n",
       "\n",
       "    .dataframe thead th {\n",
       "        text-align: right;\n",
       "    }\n",
       "</style>\n",
       "<table border=\"1\" class=\"dataframe\">\n",
       "  <thead>\n",
       "    <tr style=\"text-align: right;\">\n",
       "      <th></th>\n",
       "      <th></th>\n",
       "      <th>A</th>\n",
       "      <th>B</th>\n",
       "    </tr>\n",
       "    <tr>\n",
       "      <th>first</th>\n",
       "      <th>second</th>\n",
       "      <th></th>\n",
       "      <th></th>\n",
       "    </tr>\n",
       "  </thead>\n",
       "  <tbody>\n",
       "    <tr>\n",
       "      <th rowspan=\"2\" valign=\"top\">bar</th>\n",
       "      <th>one</th>\n",
       "      <td>-1.247314</td>\n",
       "      <td>1.071972</td>\n",
       "    </tr>\n",
       "    <tr>\n",
       "      <th>two</th>\n",
       "      <td>1.967387</td>\n",
       "      <td>-0.938298</td>\n",
       "    </tr>\n",
       "    <tr>\n",
       "      <th rowspan=\"2\" valign=\"top\">baz</th>\n",
       "      <th>one</th>\n",
       "      <td>-0.537018</td>\n",
       "      <td>-1.607650</td>\n",
       "    </tr>\n",
       "    <tr>\n",
       "      <th>two</th>\n",
       "      <td>0.810562</td>\n",
       "      <td>-0.550325</td>\n",
       "    </tr>\n",
       "  </tbody>\n",
       "</table>\n",
       "</div>"
      ],
      "text/plain": [
       "                     A         B\n",
       "first second                    \n",
       "bar   one    -1.247314  1.071972\n",
       "      two     1.967387 -0.938298\n",
       "baz   one    -0.537018 -1.607650\n",
       "      two     0.810562 -0.550325"
      ]
     },
     "execution_count": 90,
     "metadata": {},
     "output_type": "execute_result"
    }
   ],
   "source": [
    "df2 = df[:4]\n",
    "df2"
   ]
  },
  {
   "cell_type": "code",
   "execution_count": 93,
   "metadata": {
    "ExecuteTime": {
     "end_time": "2018-11-19T15:06:25.920081Z",
     "start_time": "2018-11-19T15:06:25.906313Z"
    }
   },
   "outputs": [
    {
     "data": {
      "text/plain": [
       "first  second   \n",
       "bar    one     A   -1.247314\n",
       "               B    1.071972\n",
       "       two     A    1.967387\n",
       "               B   -0.938298\n",
       "baz    one     A   -0.537018\n",
       "               B   -1.607650\n",
       "       two     A    0.810562\n",
       "               B   -0.550325\n",
       "dtype: float64"
      ]
     },
     "execution_count": 93,
     "metadata": {},
     "output_type": "execute_result"
    }
   ],
   "source": [
    "stacked = df2.stack()\n",
    "stacked"
   ]
  },
  {
   "cell_type": "code",
   "execution_count": 94,
   "metadata": {
    "ExecuteTime": {
     "end_time": "2018-11-19T15:06:36.082364Z",
     "start_time": "2018-11-19T15:06:36.064527Z"
    }
   },
   "outputs": [
    {
     "data": {
      "text/html": [
       "<div>\n",
       "<style scoped>\n",
       "    .dataframe tbody tr th:only-of-type {\n",
       "        vertical-align: middle;\n",
       "    }\n",
       "\n",
       "    .dataframe tbody tr th {\n",
       "        vertical-align: top;\n",
       "    }\n",
       "\n",
       "    .dataframe thead th {\n",
       "        text-align: right;\n",
       "    }\n",
       "</style>\n",
       "<table border=\"1\" class=\"dataframe\">\n",
       "  <thead>\n",
       "    <tr style=\"text-align: right;\">\n",
       "      <th></th>\n",
       "      <th></th>\n",
       "      <th>A</th>\n",
       "      <th>B</th>\n",
       "    </tr>\n",
       "    <tr>\n",
       "      <th>first</th>\n",
       "      <th>second</th>\n",
       "      <th></th>\n",
       "      <th></th>\n",
       "    </tr>\n",
       "  </thead>\n",
       "  <tbody>\n",
       "    <tr>\n",
       "      <th rowspan=\"2\" valign=\"top\">bar</th>\n",
       "      <th>one</th>\n",
       "      <td>-1.247314</td>\n",
       "      <td>1.071972</td>\n",
       "    </tr>\n",
       "    <tr>\n",
       "      <th>two</th>\n",
       "      <td>1.967387</td>\n",
       "      <td>-0.938298</td>\n",
       "    </tr>\n",
       "    <tr>\n",
       "      <th rowspan=\"2\" valign=\"top\">baz</th>\n",
       "      <th>one</th>\n",
       "      <td>-0.537018</td>\n",
       "      <td>-1.607650</td>\n",
       "    </tr>\n",
       "    <tr>\n",
       "      <th>two</th>\n",
       "      <td>0.810562</td>\n",
       "      <td>-0.550325</td>\n",
       "    </tr>\n",
       "  </tbody>\n",
       "</table>\n",
       "</div>"
      ],
      "text/plain": [
       "                     A         B\n",
       "first second                    \n",
       "bar   one    -1.247314  1.071972\n",
       "      two     1.967387 -0.938298\n",
       "baz   one    -0.537018 -1.607650\n",
       "      two     0.810562 -0.550325"
      ]
     },
     "execution_count": 94,
     "metadata": {},
     "output_type": "execute_result"
    }
   ],
   "source": [
    "stacked.unstack()"
   ]
  },
  {
   "cell_type": "code",
   "execution_count": 95,
   "metadata": {
    "ExecuteTime": {
     "end_time": "2018-11-19T15:06:41.003664Z",
     "start_time": "2018-11-19T15:06:40.992291Z"
    }
   },
   "outputs": [
    {
     "data": {
      "text/html": [
       "<div>\n",
       "<style scoped>\n",
       "    .dataframe tbody tr th:only-of-type {\n",
       "        vertical-align: middle;\n",
       "    }\n",
       "\n",
       "    .dataframe tbody tr th {\n",
       "        vertical-align: top;\n",
       "    }\n",
       "\n",
       "    .dataframe thead th {\n",
       "        text-align: right;\n",
       "    }\n",
       "</style>\n",
       "<table border=\"1\" class=\"dataframe\">\n",
       "  <thead>\n",
       "    <tr style=\"text-align: right;\">\n",
       "      <th></th>\n",
       "      <th>second</th>\n",
       "      <th>one</th>\n",
       "      <th>two</th>\n",
       "    </tr>\n",
       "    <tr>\n",
       "      <th>first</th>\n",
       "      <th></th>\n",
       "      <th></th>\n",
       "      <th></th>\n",
       "    </tr>\n",
       "  </thead>\n",
       "  <tbody>\n",
       "    <tr>\n",
       "      <th rowspan=\"2\" valign=\"top\">bar</th>\n",
       "      <th>A</th>\n",
       "      <td>-1.247314</td>\n",
       "      <td>1.967387</td>\n",
       "    </tr>\n",
       "    <tr>\n",
       "      <th>B</th>\n",
       "      <td>1.071972</td>\n",
       "      <td>-0.938298</td>\n",
       "    </tr>\n",
       "    <tr>\n",
       "      <th rowspan=\"2\" valign=\"top\">baz</th>\n",
       "      <th>A</th>\n",
       "      <td>-0.537018</td>\n",
       "      <td>0.810562</td>\n",
       "    </tr>\n",
       "    <tr>\n",
       "      <th>B</th>\n",
       "      <td>-1.607650</td>\n",
       "      <td>-0.550325</td>\n",
       "    </tr>\n",
       "  </tbody>\n",
       "</table>\n",
       "</div>"
      ],
      "text/plain": [
       "second        one       two\n",
       "first                      \n",
       "bar   A -1.247314  1.967387\n",
       "      B  1.071972 -0.938298\n",
       "baz   A -0.537018  0.810562\n",
       "      B -1.607650 -0.550325"
      ]
     },
     "execution_count": 95,
     "metadata": {},
     "output_type": "execute_result"
    }
   ],
   "source": [
    "stacked.unstack(1)"
   ]
  },
  {
   "cell_type": "markdown",
   "metadata": {},
   "source": [
    "#### pivot tables"
   ]
  },
  {
   "cell_type": "code",
   "execution_count": 96,
   "metadata": {
    "ExecuteTime": {
     "end_time": "2018-11-19T15:08:58.848633Z",
     "start_time": "2018-11-19T15:08:58.827233Z"
    }
   },
   "outputs": [
    {
     "data": {
      "text/html": [
       "<div>\n",
       "<style scoped>\n",
       "    .dataframe tbody tr th:only-of-type {\n",
       "        vertical-align: middle;\n",
       "    }\n",
       "\n",
       "    .dataframe tbody tr th {\n",
       "        vertical-align: top;\n",
       "    }\n",
       "\n",
       "    .dataframe thead th {\n",
       "        text-align: right;\n",
       "    }\n",
       "</style>\n",
       "<table border=\"1\" class=\"dataframe\">\n",
       "  <thead>\n",
       "    <tr style=\"text-align: right;\">\n",
       "      <th></th>\n",
       "      <th>A</th>\n",
       "      <th>B</th>\n",
       "      <th>C</th>\n",
       "      <th>D</th>\n",
       "      <th>E</th>\n",
       "    </tr>\n",
       "  </thead>\n",
       "  <tbody>\n",
       "    <tr>\n",
       "      <th>0</th>\n",
       "      <td>one</td>\n",
       "      <td>A</td>\n",
       "      <td>foo</td>\n",
       "      <td>0.754142</td>\n",
       "      <td>-0.988409</td>\n",
       "    </tr>\n",
       "    <tr>\n",
       "      <th>1</th>\n",
       "      <td>one</td>\n",
       "      <td>B</td>\n",
       "      <td>foo</td>\n",
       "      <td>0.152287</td>\n",
       "      <td>-0.789681</td>\n",
       "    </tr>\n",
       "    <tr>\n",
       "      <th>2</th>\n",
       "      <td>two</td>\n",
       "      <td>C</td>\n",
       "      <td>foo</td>\n",
       "      <td>-0.798388</td>\n",
       "      <td>-1.812494</td>\n",
       "    </tr>\n",
       "    <tr>\n",
       "      <th>3</th>\n",
       "      <td>three</td>\n",
       "      <td>A</td>\n",
       "      <td>bar</td>\n",
       "      <td>0.607513</td>\n",
       "      <td>1.394262</td>\n",
       "    </tr>\n",
       "    <tr>\n",
       "      <th>4</th>\n",
       "      <td>one</td>\n",
       "      <td>B</td>\n",
       "      <td>bar</td>\n",
       "      <td>1.121403</td>\n",
       "      <td>-1.270651</td>\n",
       "    </tr>\n",
       "    <tr>\n",
       "      <th>5</th>\n",
       "      <td>one</td>\n",
       "      <td>C</td>\n",
       "      <td>bar</td>\n",
       "      <td>0.273574</td>\n",
       "      <td>-0.567180</td>\n",
       "    </tr>\n",
       "    <tr>\n",
       "      <th>6</th>\n",
       "      <td>two</td>\n",
       "      <td>A</td>\n",
       "      <td>foo</td>\n",
       "      <td>-0.380820</td>\n",
       "      <td>0.939954</td>\n",
       "    </tr>\n",
       "    <tr>\n",
       "      <th>7</th>\n",
       "      <td>three</td>\n",
       "      <td>B</td>\n",
       "      <td>foo</td>\n",
       "      <td>-2.311833</td>\n",
       "      <td>-0.226994</td>\n",
       "    </tr>\n",
       "    <tr>\n",
       "      <th>8</th>\n",
       "      <td>one</td>\n",
       "      <td>C</td>\n",
       "      <td>foo</td>\n",
       "      <td>2.343881</td>\n",
       "      <td>-0.201741</td>\n",
       "    </tr>\n",
       "    <tr>\n",
       "      <th>9</th>\n",
       "      <td>one</td>\n",
       "      <td>A</td>\n",
       "      <td>bar</td>\n",
       "      <td>-0.388593</td>\n",
       "      <td>-1.442269</td>\n",
       "    </tr>\n",
       "    <tr>\n",
       "      <th>10</th>\n",
       "      <td>two</td>\n",
       "      <td>B</td>\n",
       "      <td>bar</td>\n",
       "      <td>-1.297039</td>\n",
       "      <td>0.135612</td>\n",
       "    </tr>\n",
       "    <tr>\n",
       "      <th>11</th>\n",
       "      <td>three</td>\n",
       "      <td>C</td>\n",
       "      <td>bar</td>\n",
       "      <td>0.342584</td>\n",
       "      <td>-0.524291</td>\n",
       "    </tr>\n",
       "  </tbody>\n",
       "</table>\n",
       "</div>"
      ],
      "text/plain": [
       "        A  B    C         D         E\n",
       "0     one  A  foo  0.754142 -0.988409\n",
       "1     one  B  foo  0.152287 -0.789681\n",
       "2     two  C  foo -0.798388 -1.812494\n",
       "3   three  A  bar  0.607513  1.394262\n",
       "4     one  B  bar  1.121403 -1.270651\n",
       "5     one  C  bar  0.273574 -0.567180\n",
       "6     two  A  foo -0.380820  0.939954\n",
       "7   three  B  foo -2.311833 -0.226994\n",
       "8     one  C  foo  2.343881 -0.201741\n",
       "9     one  A  bar -0.388593 -1.442269\n",
       "10    two  B  bar -1.297039  0.135612\n",
       "11  three  C  bar  0.342584 -0.524291"
      ]
     },
     "execution_count": 96,
     "metadata": {},
     "output_type": "execute_result"
    }
   ],
   "source": [
    "df = pd.DataFrame({'A' : ['one', 'one', 'two', 'three'] * 3,\n",
    "                   'B' : ['A', 'B', 'C'] * 4,\n",
    "                   'C' : ['foo', 'foo', 'foo', 'bar', 'bar', 'bar'] * 2,\n",
    "                   'D' : np.random.randn(12),\n",
    "                   'E' : np.random.randn(12)})\n",
    "df"
   ]
  },
  {
   "cell_type": "code",
   "execution_count": 98,
   "metadata": {
    "ExecuteTime": {
     "end_time": "2018-11-19T15:09:48.047795Z",
     "start_time": "2018-11-19T15:09:48.023470Z"
    }
   },
   "outputs": [
    {
     "data": {
      "text/html": [
       "<div>\n",
       "<style scoped>\n",
       "    .dataframe tbody tr th:only-of-type {\n",
       "        vertical-align: middle;\n",
       "    }\n",
       "\n",
       "    .dataframe tbody tr th {\n",
       "        vertical-align: top;\n",
       "    }\n",
       "\n",
       "    .dataframe thead tr th {\n",
       "        text-align: left;\n",
       "    }\n",
       "\n",
       "    .dataframe thead tr:last-of-type th {\n",
       "        text-align: right;\n",
       "    }\n",
       "</style>\n",
       "<table border=\"1\" class=\"dataframe\">\n",
       "  <thead>\n",
       "    <tr>\n",
       "      <th></th>\n",
       "      <th></th>\n",
       "      <th colspan=\"2\" halign=\"left\">D</th>\n",
       "      <th colspan=\"2\" halign=\"left\">E</th>\n",
       "    </tr>\n",
       "    <tr>\n",
       "      <th></th>\n",
       "      <th>C</th>\n",
       "      <th>bar</th>\n",
       "      <th>foo</th>\n",
       "      <th>bar</th>\n",
       "      <th>foo</th>\n",
       "    </tr>\n",
       "    <tr>\n",
       "      <th>A</th>\n",
       "      <th>B</th>\n",
       "      <th></th>\n",
       "      <th></th>\n",
       "      <th></th>\n",
       "      <th></th>\n",
       "    </tr>\n",
       "  </thead>\n",
       "  <tbody>\n",
       "    <tr>\n",
       "      <th rowspan=\"3\" valign=\"top\">one</th>\n",
       "      <th>A</th>\n",
       "      <td>-0.388593</td>\n",
       "      <td>0.754142</td>\n",
       "      <td>-1.442269</td>\n",
       "      <td>-0.988409</td>\n",
       "    </tr>\n",
       "    <tr>\n",
       "      <th>B</th>\n",
       "      <td>1.121403</td>\n",
       "      <td>0.152287</td>\n",
       "      <td>-1.270651</td>\n",
       "      <td>-0.789681</td>\n",
       "    </tr>\n",
       "    <tr>\n",
       "      <th>C</th>\n",
       "      <td>0.273574</td>\n",
       "      <td>2.343881</td>\n",
       "      <td>-0.567180</td>\n",
       "      <td>-0.201741</td>\n",
       "    </tr>\n",
       "    <tr>\n",
       "      <th rowspan=\"3\" valign=\"top\">three</th>\n",
       "      <th>A</th>\n",
       "      <td>0.607513</td>\n",
       "      <td>NaN</td>\n",
       "      <td>1.394262</td>\n",
       "      <td>NaN</td>\n",
       "    </tr>\n",
       "    <tr>\n",
       "      <th>B</th>\n",
       "      <td>NaN</td>\n",
       "      <td>-2.311833</td>\n",
       "      <td>NaN</td>\n",
       "      <td>-0.226994</td>\n",
       "    </tr>\n",
       "    <tr>\n",
       "      <th>C</th>\n",
       "      <td>0.342584</td>\n",
       "      <td>NaN</td>\n",
       "      <td>-0.524291</td>\n",
       "      <td>NaN</td>\n",
       "    </tr>\n",
       "    <tr>\n",
       "      <th rowspan=\"3\" valign=\"top\">two</th>\n",
       "      <th>A</th>\n",
       "      <td>NaN</td>\n",
       "      <td>-0.380820</td>\n",
       "      <td>NaN</td>\n",
       "      <td>0.939954</td>\n",
       "    </tr>\n",
       "    <tr>\n",
       "      <th>B</th>\n",
       "      <td>-1.297039</td>\n",
       "      <td>NaN</td>\n",
       "      <td>0.135612</td>\n",
       "      <td>NaN</td>\n",
       "    </tr>\n",
       "    <tr>\n",
       "      <th>C</th>\n",
       "      <td>NaN</td>\n",
       "      <td>-0.798388</td>\n",
       "      <td>NaN</td>\n",
       "      <td>-1.812494</td>\n",
       "    </tr>\n",
       "  </tbody>\n",
       "</table>\n",
       "</div>"
      ],
      "text/plain": [
       "                D                   E          \n",
       "C             bar       foo       bar       foo\n",
       "A     B                                        \n",
       "one   A -0.388593  0.754142 -1.442269 -0.988409\n",
       "      B  1.121403  0.152287 -1.270651 -0.789681\n",
       "      C  0.273574  2.343881 -0.567180 -0.201741\n",
       "three A  0.607513       NaN  1.394262       NaN\n",
       "      B       NaN -2.311833       NaN -0.226994\n",
       "      C  0.342584       NaN -0.524291       NaN\n",
       "two   A       NaN -0.380820       NaN  0.939954\n",
       "      B -1.297039       NaN  0.135612       NaN\n",
       "      C       NaN -0.798388       NaN -1.812494"
      ]
     },
     "execution_count": 98,
     "metadata": {},
     "output_type": "execute_result"
    }
   ],
   "source": [
    "pd.pivot_table(df, values=['D', 'E'], index=['A', 'B'], columns=['C'])"
   ]
  },
  {
   "cell_type": "markdown",
   "metadata": {},
   "source": [
    "#### time series"
   ]
  },
  {
   "cell_type": "code",
   "execution_count": 99,
   "metadata": {
    "ExecuteTime": {
     "end_time": "2018-11-19T15:10:26.259055Z",
     "start_time": "2018-11-19T15:10:26.240959Z"
    }
   },
   "outputs": [
    {
     "data": {
      "text/plain": [
       "DatetimeIndex(['2018-11-19 00:00:00', '2018-11-19 00:00:01',\n",
       "               '2018-11-19 00:00:02', '2018-11-19 00:00:03',\n",
       "               '2018-11-19 00:00:04', '2018-11-19 00:00:05',\n",
       "               '2018-11-19 00:00:06', '2018-11-19 00:00:07',\n",
       "               '2018-11-19 00:00:08', '2018-11-19 00:00:09',\n",
       "               '2018-11-19 00:00:10', '2018-11-19 00:00:11',\n",
       "               '2018-11-19 00:00:12', '2018-11-19 00:00:13',\n",
       "               '2018-11-19 00:00:14', '2018-11-19 00:00:15',\n",
       "               '2018-11-19 00:00:16', '2018-11-19 00:00:17',\n",
       "               '2018-11-19 00:00:18', '2018-11-19 00:00:19',\n",
       "               '2018-11-19 00:00:20', '2018-11-19 00:00:21',\n",
       "               '2018-11-19 00:00:22', '2018-11-19 00:00:23',\n",
       "               '2018-11-19 00:00:24', '2018-11-19 00:00:25',\n",
       "               '2018-11-19 00:00:26', '2018-11-19 00:00:27',\n",
       "               '2018-11-19 00:00:28', '2018-11-19 00:00:29',\n",
       "               '2018-11-19 00:00:30', '2018-11-19 00:00:31',\n",
       "               '2018-11-19 00:00:32', '2018-11-19 00:00:33',\n",
       "               '2018-11-19 00:00:34', '2018-11-19 00:00:35',\n",
       "               '2018-11-19 00:00:36', '2018-11-19 00:00:37',\n",
       "               '2018-11-19 00:00:38', '2018-11-19 00:00:39',\n",
       "               '2018-11-19 00:00:40', '2018-11-19 00:00:41',\n",
       "               '2018-11-19 00:00:42', '2018-11-19 00:00:43',\n",
       "               '2018-11-19 00:00:44', '2018-11-19 00:00:45',\n",
       "               '2018-11-19 00:00:46', '2018-11-19 00:00:47',\n",
       "               '2018-11-19 00:00:48', '2018-11-19 00:00:49',\n",
       "               '2018-11-19 00:00:50', '2018-11-19 00:00:51',\n",
       "               '2018-11-19 00:00:52', '2018-11-19 00:00:53',\n",
       "               '2018-11-19 00:00:54', '2018-11-19 00:00:55',\n",
       "               '2018-11-19 00:00:56', '2018-11-19 00:00:57',\n",
       "               '2018-11-19 00:00:58', '2018-11-19 00:00:59',\n",
       "               '2018-11-19 00:01:00', '2018-11-19 00:01:01',\n",
       "               '2018-11-19 00:01:02', '2018-11-19 00:01:03',\n",
       "               '2018-11-19 00:01:04', '2018-11-19 00:01:05',\n",
       "               '2018-11-19 00:01:06', '2018-11-19 00:01:07',\n",
       "               '2018-11-19 00:01:08', '2018-11-19 00:01:09',\n",
       "               '2018-11-19 00:01:10', '2018-11-19 00:01:11',\n",
       "               '2018-11-19 00:01:12', '2018-11-19 00:01:13',\n",
       "               '2018-11-19 00:01:14', '2018-11-19 00:01:15',\n",
       "               '2018-11-19 00:01:16', '2018-11-19 00:01:17',\n",
       "               '2018-11-19 00:01:18', '2018-11-19 00:01:19',\n",
       "               '2018-11-19 00:01:20', '2018-11-19 00:01:21',\n",
       "               '2018-11-19 00:01:22', '2018-11-19 00:01:23',\n",
       "               '2018-11-19 00:01:24', '2018-11-19 00:01:25',\n",
       "               '2018-11-19 00:01:26', '2018-11-19 00:01:27',\n",
       "               '2018-11-19 00:01:28', '2018-11-19 00:01:29',\n",
       "               '2018-11-19 00:01:30', '2018-11-19 00:01:31',\n",
       "               '2018-11-19 00:01:32', '2018-11-19 00:01:33',\n",
       "               '2018-11-19 00:01:34', '2018-11-19 00:01:35',\n",
       "               '2018-11-19 00:01:36', '2018-11-19 00:01:37',\n",
       "               '2018-11-19 00:01:38', '2018-11-19 00:01:39'],\n",
       "              dtype='datetime64[ns]', freq='S')"
      ]
     },
     "execution_count": 99,
     "metadata": {},
     "output_type": "execute_result"
    }
   ],
   "source": [
    "rng = pd.date_range('11/19/2018', periods=100, freq='S')\n",
    "rng"
   ]
  },
  {
   "cell_type": "code",
   "execution_count": 102,
   "metadata": {
    "ExecuteTime": {
     "end_time": "2018-11-19T15:10:50.868715Z",
     "start_time": "2018-11-19T15:10:50.843448Z"
    }
   },
   "outputs": [
    {
     "data": {
      "text/plain": [
       "2018-11-19 00:00:00    429\n",
       "2018-11-19 00:00:01    149\n",
       "2018-11-19 00:00:02    410\n",
       "2018-11-19 00:00:03    329\n",
       "2018-11-19 00:00:04     22\n",
       "2018-11-19 00:00:05    203\n",
       "2018-11-19 00:00:06      4\n",
       "2018-11-19 00:00:07     65\n",
       "2018-11-19 00:00:08    116\n",
       "2018-11-19 00:00:09    191\n",
       "2018-11-19 00:00:10    473\n",
       "2018-11-19 00:00:11    487\n",
       "2018-11-19 00:00:12    496\n",
       "2018-11-19 00:00:13    207\n",
       "2018-11-19 00:00:14    105\n",
       "2018-11-19 00:00:15    170\n",
       "2018-11-19 00:00:16    401\n",
       "2018-11-19 00:00:17      8\n",
       "2018-11-19 00:00:18    451\n",
       "2018-11-19 00:00:19    214\n",
       "2018-11-19 00:00:20    304\n",
       "2018-11-19 00:00:21     82\n",
       "2018-11-19 00:00:22    243\n",
       "2018-11-19 00:00:23    125\n",
       "2018-11-19 00:00:24    132\n",
       "2018-11-19 00:00:25    466\n",
       "2018-11-19 00:00:26     19\n",
       "2018-11-19 00:00:27     80\n",
       "2018-11-19 00:00:28    270\n",
       "2018-11-19 00:00:29    439\n",
       "                      ... \n",
       "2018-11-19 00:01:10     30\n",
       "2018-11-19 00:01:11    459\n",
       "2018-11-19 00:01:12    405\n",
       "2018-11-19 00:01:13    362\n",
       "2018-11-19 00:01:14    456\n",
       "2018-11-19 00:01:15    294\n",
       "2018-11-19 00:01:16    243\n",
       "2018-11-19 00:01:17    311\n",
       "2018-11-19 00:01:18     45\n",
       "2018-11-19 00:01:19    294\n",
       "2018-11-19 00:01:20    206\n",
       "2018-11-19 00:01:21    416\n",
       "2018-11-19 00:01:22    304\n",
       "2018-11-19 00:01:23    281\n",
       "2018-11-19 00:01:24    278\n",
       "2018-11-19 00:01:25    414\n",
       "2018-11-19 00:01:26    281\n",
       "2018-11-19 00:01:27     61\n",
       "2018-11-19 00:01:28    364\n",
       "2018-11-19 00:01:29    480\n",
       "2018-11-19 00:01:30    303\n",
       "2018-11-19 00:01:31    176\n",
       "2018-11-19 00:01:32     13\n",
       "2018-11-19 00:01:33    463\n",
       "2018-11-19 00:01:34    214\n",
       "2018-11-19 00:01:35    219\n",
       "2018-11-19 00:01:36    348\n",
       "2018-11-19 00:01:37      6\n",
       "2018-11-19 00:01:38    195\n",
       "2018-11-19 00:01:39    166\n",
       "Freq: S, Length: 100, dtype: int64"
      ]
     },
     "execution_count": 102,
     "metadata": {},
     "output_type": "execute_result"
    }
   ],
   "source": [
    "ts = pd.Series(np.random.randint(0, 500, len(rng)), index=rng)\n",
    "ts"
   ]
  },
  {
   "cell_type": "code",
   "execution_count": 103,
   "metadata": {
    "ExecuteTime": {
     "end_time": "2018-11-19T15:10:54.461721Z",
     "start_time": "2018-11-19T15:10:54.454759Z"
    }
   },
   "outputs": [
    {
     "data": {
      "text/plain": [
       "2018-11-19    25986\n",
       "Freq: 5T, dtype: int64"
      ]
     },
     "execution_count": 103,
     "metadata": {},
     "output_type": "execute_result"
    }
   ],
   "source": [
    "ts.resample('5Min').sum()"
   ]
  },
  {
   "cell_type": "code",
   "execution_count": 104,
   "metadata": {
    "ExecuteTime": {
     "end_time": "2018-11-19T15:11:14.437932Z",
     "start_time": "2018-11-19T15:11:14.423842Z"
    }
   },
   "outputs": [
    {
     "data": {
      "text/plain": [
       "2018-11-19 00:00:00+00:00    0.183970\n",
       "2018-11-20 00:00:00+00:00    0.085480\n",
       "2018-11-21 00:00:00+00:00    1.470206\n",
       "2018-11-22 00:00:00+00:00   -0.205102\n",
       "2018-11-23 00:00:00+00:00    3.025688\n",
       "Freq: D, dtype: float64"
      ]
     },
     "execution_count": 104,
     "metadata": {},
     "output_type": "execute_result"
    }
   ],
   "source": [
    "rng = pd.date_range('11/19/2018 00:00', periods=5, freq='D')\n",
    "ts = pd.Series(np.random.randn(len(rng)), rng)\n",
    "ts\n",
    "ts_utc = ts.tz_localize('UTC')\n",
    "ts_utc"
   ]
  },
  {
   "cell_type": "code",
   "execution_count": 105,
   "metadata": {
    "ExecuteTime": {
     "end_time": "2018-11-19T15:11:21.728503Z",
     "start_time": "2018-11-19T15:11:21.680388Z"
    }
   },
   "outputs": [
    {
     "data": {
      "text/plain": [
       "2018-11-18 19:00:00-05:00    0.183970\n",
       "2018-11-19 19:00:00-05:00    0.085480\n",
       "2018-11-20 19:00:00-05:00    1.470206\n",
       "2018-11-21 19:00:00-05:00   -0.205102\n",
       "2018-11-22 19:00:00-05:00    3.025688\n",
       "Freq: D, dtype: float64"
      ]
     },
     "execution_count": 105,
     "metadata": {},
     "output_type": "execute_result"
    }
   ],
   "source": [
    "ts_utc.tz_convert('US/Eastern')"
   ]
  },
  {
   "cell_type": "code",
   "execution_count": 106,
   "metadata": {
    "ExecuteTime": {
     "end_time": "2018-11-19T15:11:32.507550Z",
     "start_time": "2018-11-19T15:11:32.490484Z"
    }
   },
   "outputs": [
    {
     "data": {
      "text/plain": [
       "2012-01-31   -0.144360\n",
       "2012-02-29   -0.565984\n",
       "2012-03-31   -1.648105\n",
       "2012-04-30    0.675382\n",
       "2012-05-31    0.515621\n",
       "Freq: M, dtype: float64"
      ]
     },
     "execution_count": 106,
     "metadata": {},
     "output_type": "execute_result"
    }
   ],
   "source": [
    "rng = pd.date_range('1/1/2012', periods=5, freq='M')\n",
    "ts = pd.Series(np.random.randn(len(rng)), index=rng)\n",
    "ts"
   ]
  },
  {
   "cell_type": "code",
   "execution_count": 110,
   "metadata": {
    "ExecuteTime": {
     "end_time": "2018-11-19T15:11:50.158156Z",
     "start_time": "2018-11-19T15:11:50.152687Z"
    }
   },
   "outputs": [
    {
     "data": {
      "text/plain": [
       "2012-01   -0.144360\n",
       "2012-02   -0.565984\n",
       "2012-03   -1.648105\n",
       "2012-04    0.675382\n",
       "2012-05    0.515621\n",
       "Freq: M, dtype: float64"
      ]
     },
     "execution_count": 110,
     "metadata": {},
     "output_type": "execute_result"
    }
   ],
   "source": [
    "ps = ts.to_period()\n",
    "ps"
   ]
  },
  {
   "cell_type": "code",
   "execution_count": 111,
   "metadata": {
    "ExecuteTime": {
     "end_time": "2018-11-19T15:11:52.768527Z",
     "start_time": "2018-11-19T15:11:52.761918Z"
    }
   },
   "outputs": [
    {
     "data": {
      "text/plain": [
       "2012-01-01   -0.144360\n",
       "2012-02-01   -0.565984\n",
       "2012-03-01   -1.648105\n",
       "2012-04-01    0.675382\n",
       "2012-05-01    0.515621\n",
       "Freq: MS, dtype: float64"
      ]
     },
     "execution_count": 111,
     "metadata": {},
     "output_type": "execute_result"
    }
   ],
   "source": [
    "ps.to_timestamp()"
   ]
  },
  {
   "cell_type": "code",
   "execution_count": 112,
   "metadata": {
    "ExecuteTime": {
     "end_time": "2018-11-19T15:12:10.306041Z",
     "start_time": "2018-11-19T15:12:10.291750Z"
    }
   },
   "outputs": [
    {
     "data": {
      "text/plain": [
       "1990-03-01 09:00    2.334049\n",
       "1990-06-01 09:00   -0.458845\n",
       "1990-09-01 09:00    0.326924\n",
       "1990-12-01 09:00    0.481272\n",
       "1991-03-01 09:00    0.144064\n",
       "Freq: H, dtype: float64"
      ]
     },
     "execution_count": 112,
     "metadata": {},
     "output_type": "execute_result"
    }
   ],
   "source": [
    "prng = pd.period_range('1990Q1', '2000Q4', freq='Q-NOV')\n",
    "ts = pd.Series(np.random.randn(len(prng)), prng)\n",
    "ts.index = (prng.asfreq('M', 'e') + 1).asfreq('H', 's') + 9\n",
    "ts.head()"
   ]
  },
  {
   "cell_type": "markdown",
   "metadata": {},
   "source": [
    "#### categoricals"
   ]
  },
  {
   "cell_type": "code",
   "execution_count": 3,
   "metadata": {
    "ExecuteTime": {
     "end_time": "2018-11-19T15:20:07.745970Z",
     "start_time": "2018-11-19T15:20:07.742191Z"
    }
   },
   "outputs": [],
   "source": [
    "df = pd.DataFrame({\"id\":[1,2,3,4,5,6], \"raw_grade\":['a', 'b', 'b', 'a', 'a', 'e']})"
   ]
  },
  {
   "cell_type": "code",
   "execution_count": 4,
   "metadata": {
    "ExecuteTime": {
     "end_time": "2018-11-19T15:20:07.887307Z",
     "start_time": "2018-11-19T15:20:07.876408Z"
    }
   },
   "outputs": [
    {
     "data": {
      "text/plain": [
       "0    a\n",
       "1    b\n",
       "2    b\n",
       "3    a\n",
       "4    a\n",
       "5    e\n",
       "Name: grade, dtype: category\n",
       "Categories (3, object): [a, b, e]"
      ]
     },
     "execution_count": 4,
     "metadata": {},
     "output_type": "execute_result"
    }
   ],
   "source": [
    "df[\"grade\"] = df[\"raw_grade\"].astype(\"category\")\n",
    "df[\"grade\"]"
   ]
  },
  {
   "cell_type": "code",
   "execution_count": 5,
   "metadata": {
    "ExecuteTime": {
     "end_time": "2018-11-19T15:20:08.104538Z",
     "start_time": "2018-11-19T15:20:08.065544Z"
    }
   },
   "outputs": [
    {
     "data": {
      "text/html": [
       "<div>\n",
       "<style scoped>\n",
       "    .dataframe tbody tr th:only-of-type {\n",
       "        vertical-align: middle;\n",
       "    }\n",
       "\n",
       "    .dataframe tbody tr th {\n",
       "        vertical-align: top;\n",
       "    }\n",
       "\n",
       "    .dataframe thead th {\n",
       "        text-align: right;\n",
       "    }\n",
       "</style>\n",
       "<table border=\"1\" class=\"dataframe\">\n",
       "  <thead>\n",
       "    <tr style=\"text-align: right;\">\n",
       "      <th></th>\n",
       "      <th>id</th>\n",
       "      <th>raw_grade</th>\n",
       "      <th>grade</th>\n",
       "    </tr>\n",
       "  </thead>\n",
       "  <tbody>\n",
       "    <tr>\n",
       "      <th>0</th>\n",
       "      <td>1</td>\n",
       "      <td>a</td>\n",
       "      <td>very good</td>\n",
       "    </tr>\n",
       "    <tr>\n",
       "      <th>1</th>\n",
       "      <td>2</td>\n",
       "      <td>b</td>\n",
       "      <td>good</td>\n",
       "    </tr>\n",
       "    <tr>\n",
       "      <th>2</th>\n",
       "      <td>3</td>\n",
       "      <td>b</td>\n",
       "      <td>good</td>\n",
       "    </tr>\n",
       "    <tr>\n",
       "      <th>3</th>\n",
       "      <td>4</td>\n",
       "      <td>a</td>\n",
       "      <td>very good</td>\n",
       "    </tr>\n",
       "    <tr>\n",
       "      <th>4</th>\n",
       "      <td>5</td>\n",
       "      <td>a</td>\n",
       "      <td>very good</td>\n",
       "    </tr>\n",
       "    <tr>\n",
       "      <th>5</th>\n",
       "      <td>6</td>\n",
       "      <td>e</td>\n",
       "      <td>very bad</td>\n",
       "    </tr>\n",
       "  </tbody>\n",
       "</table>\n",
       "</div>"
      ],
      "text/plain": [
       "   id raw_grade      grade\n",
       "0   1         a  very good\n",
       "1   2         b       good\n",
       "2   3         b       good\n",
       "3   4         a  very good\n",
       "4   5         a  very good\n",
       "5   6         e   very bad"
      ]
     },
     "execution_count": 5,
     "metadata": {},
     "output_type": "execute_result"
    }
   ],
   "source": [
    "df[\"grade\"].cat.categories = [\"very good\", \"good\", \"very bad\"]\n",
    "df"
   ]
  },
  {
   "cell_type": "code",
   "execution_count": 6,
   "metadata": {
    "ExecuteTime": {
     "end_time": "2018-11-19T15:20:08.374427Z",
     "start_time": "2018-11-19T15:20:08.368371Z"
    }
   },
   "outputs": [
    {
     "data": {
      "text/plain": [
       "0    very good\n",
       "1         good\n",
       "2         good\n",
       "3    very good\n",
       "4    very good\n",
       "5     very bad\n",
       "Name: grade, dtype: category\n",
       "Categories (5, object): [very bad, bad, medium, good, very good]"
      ]
     },
     "execution_count": 6,
     "metadata": {},
     "output_type": "execute_result"
    }
   ],
   "source": [
    "df[\"grade\"] = df[\"grade\"].cat.set_categories([\"very bad\", \"bad\", \"medium\", \"good\", \"very good\"])\n",
    "df[\"grade\"]"
   ]
  },
  {
   "cell_type": "code",
   "execution_count": 7,
   "metadata": {
    "ExecuteTime": {
     "end_time": "2018-11-19T15:20:08.432113Z",
     "start_time": "2018-11-19T15:20:08.422104Z"
    }
   },
   "outputs": [
    {
     "data": {
      "text/html": [
       "<div>\n",
       "<style scoped>\n",
       "    .dataframe tbody tr th:only-of-type {\n",
       "        vertical-align: middle;\n",
       "    }\n",
       "\n",
       "    .dataframe tbody tr th {\n",
       "        vertical-align: top;\n",
       "    }\n",
       "\n",
       "    .dataframe thead th {\n",
       "        text-align: right;\n",
       "    }\n",
       "</style>\n",
       "<table border=\"1\" class=\"dataframe\">\n",
       "  <thead>\n",
       "    <tr style=\"text-align: right;\">\n",
       "      <th></th>\n",
       "      <th>id</th>\n",
       "      <th>raw_grade</th>\n",
       "      <th>grade</th>\n",
       "    </tr>\n",
       "  </thead>\n",
       "  <tbody>\n",
       "    <tr>\n",
       "      <th>5</th>\n",
       "      <td>6</td>\n",
       "      <td>e</td>\n",
       "      <td>very bad</td>\n",
       "    </tr>\n",
       "    <tr>\n",
       "      <th>1</th>\n",
       "      <td>2</td>\n",
       "      <td>b</td>\n",
       "      <td>good</td>\n",
       "    </tr>\n",
       "    <tr>\n",
       "      <th>2</th>\n",
       "      <td>3</td>\n",
       "      <td>b</td>\n",
       "      <td>good</td>\n",
       "    </tr>\n",
       "    <tr>\n",
       "      <th>0</th>\n",
       "      <td>1</td>\n",
       "      <td>a</td>\n",
       "      <td>very good</td>\n",
       "    </tr>\n",
       "    <tr>\n",
       "      <th>3</th>\n",
       "      <td>4</td>\n",
       "      <td>a</td>\n",
       "      <td>very good</td>\n",
       "    </tr>\n",
       "    <tr>\n",
       "      <th>4</th>\n",
       "      <td>5</td>\n",
       "      <td>a</td>\n",
       "      <td>very good</td>\n",
       "    </tr>\n",
       "  </tbody>\n",
       "</table>\n",
       "</div>"
      ],
      "text/plain": [
       "   id raw_grade      grade\n",
       "5   6         e   very bad\n",
       "1   2         b       good\n",
       "2   3         b       good\n",
       "0   1         a  very good\n",
       "3   4         a  very good\n",
       "4   5         a  very good"
      ]
     },
     "execution_count": 7,
     "metadata": {},
     "output_type": "execute_result"
    }
   ],
   "source": [
    "df.sort_values(by=\"grade\")"
   ]
  },
  {
   "cell_type": "code",
   "execution_count": 8,
   "metadata": {
    "ExecuteTime": {
     "end_time": "2018-11-19T15:20:08.606700Z",
     "start_time": "2018-11-19T15:20:08.599543Z"
    }
   },
   "outputs": [
    {
     "data": {
      "text/plain": [
       "grade\n",
       "very bad     1\n",
       "bad          0\n",
       "medium       0\n",
       "good         2\n",
       "very good    3\n",
       "dtype: int64"
      ]
     },
     "execution_count": 8,
     "metadata": {},
     "output_type": "execute_result"
    }
   ],
   "source": [
    "df.groupby(\"grade\").size()"
   ]
  },
  {
   "cell_type": "markdown",
   "metadata": {},
   "source": [
    "#### plotting"
   ]
  },
  {
   "cell_type": "code",
   "execution_count": 12,
   "metadata": {
    "ExecuteTime": {
     "end_time": "2018-11-19T15:20:49.242789Z",
     "start_time": "2018-11-19T15:20:49.235158Z"
    }
   },
   "outputs": [
    {
     "data": {
      "text/plain": [
       "2018-11-19     -1.546859\n",
       "2018-11-20     -0.563053\n",
       "2018-11-21     -1.375912\n",
       "2018-11-22     -0.272830\n",
       "2018-11-23     -0.333139\n",
       "2018-11-24     -0.757520\n",
       "2018-11-25     -0.703572\n",
       "2018-11-26     -0.446218\n",
       "2018-11-27     -2.117575\n",
       "2018-11-28     -2.135967\n",
       "2018-11-29     -0.964106\n",
       "2018-11-30     -2.197498\n",
       "2018-12-01     -2.169860\n",
       "2018-12-02     -2.459855\n",
       "2018-12-03     -0.970359\n",
       "2018-12-04     -1.135439\n",
       "2018-12-05     -1.811830\n",
       "2018-12-06     -2.531982\n",
       "2018-12-07     -2.694473\n",
       "2018-12-08     -4.231670\n",
       "2018-12-09     -5.598258\n",
       "2018-12-10     -4.911222\n",
       "2018-12-11     -6.020177\n",
       "2018-12-12     -5.806085\n",
       "2018-12-13     -7.112545\n",
       "2018-12-14     -8.905930\n",
       "2018-12-15     -6.657839\n",
       "2018-12-16     -8.064584\n",
       "2018-12-17     -9.849889\n",
       "2018-12-18    -10.752534\n",
       "                 ...    \n",
       "2021-07-16   -100.016488\n",
       "2021-07-17   -100.176638\n",
       "2021-07-18   -100.672901\n",
       "2021-07-19   -101.555383\n",
       "2021-07-20   -101.857593\n",
       "2021-07-21   -101.841155\n",
       "2021-07-22   -103.732515\n",
       "2021-07-23   -103.632655\n",
       "2021-07-24   -104.579882\n",
       "2021-07-25   -105.423120\n",
       "2021-07-26   -105.984823\n",
       "2021-07-27   -106.122365\n",
       "2021-07-28   -104.616185\n",
       "2021-07-29   -102.990552\n",
       "2021-07-30   -104.257096\n",
       "2021-07-31   -106.222608\n",
       "2021-08-01   -105.947701\n",
       "2021-08-02   -107.421399\n",
       "2021-08-03   -106.681171\n",
       "2021-08-04   -106.867023\n",
       "2021-08-05   -106.416357\n",
       "2021-08-06   -105.992338\n",
       "2021-08-07   -107.014351\n",
       "2021-08-08   -107.374596\n",
       "2021-08-09   -108.874312\n",
       "2021-08-10   -107.606141\n",
       "2021-08-11   -107.456554\n",
       "2021-08-12   -109.071422\n",
       "2021-08-13   -110.419573\n",
       "2021-08-14   -111.699951\n",
       "Freq: D, Length: 1000, dtype: float64"
      ]
     },
     "execution_count": 12,
     "metadata": {},
     "output_type": "execute_result"
    }
   ],
   "source": [
    "ts = pd.Series(np.random.randn(1000), index=pd.date_range('11/19/2018', periods=1000))\n",
    "ts = ts.cumsum()\n",
    "ts"
   ]
  },
  {
   "cell_type": "code",
   "execution_count": 13,
   "metadata": {
    "ExecuteTime": {
     "end_time": "2018-11-19T15:20:50.562595Z",
     "start_time": "2018-11-19T15:20:50.266232Z"
    }
   },
   "outputs": [
    {
     "data": {
      "text/plain": [
       "<matplotlib.axes._subplots.AxesSubplot at 0x111c85518>"
      ]
     },
     "execution_count": 13,
     "metadata": {},
     "output_type": "execute_result"
    },
    {
     "data": {
      "image/png": "[encoded data removed]",
      "text/plain": [
       "<Figure size 432x288 with 1 Axes>"
      ]
     },
     "metadata": {},
     "output_type": "display_data"
    }
   ],
   "source": [
    "ts.plot()"
   ]
  },
  {
   "cell_type": "code",
   "execution_count": 14,
   "metadata": {
    "ExecuteTime": {
     "end_time": "2018-11-19T15:21:03.050636Z",
     "start_time": "2018-11-19T15:21:03.026223Z"
    }
   },
   "outputs": [
    {
     "data": {
      "text/html": [
       "<div>\n",
       "<style scoped>\n",
       "    .dataframe tbody tr th:only-of-type {\n",
       "        vertical-align: middle;\n",
       "    }\n",
       "\n",
       "    .dataframe tbody tr th {\n",
       "        vertical-align: top;\n",
       "    }\n",
       "\n",
       "    .dataframe thead th {\n",
       "        text-align: right;\n",
       "    }\n",
       "</style>\n",
       "<table border=\"1\" class=\"dataframe\">\n",
       "  <thead>\n",
       "    <tr style=\"text-align: right;\">\n",
       "      <th></th>\n",
       "      <th>A</th>\n",
       "      <th>B</th>\n",
       "      <th>C</th>\n",
       "      <th>D</th>\n",
       "    </tr>\n",
       "  </thead>\n",
       "  <tbody>\n",
       "    <tr>\n",
       "      <th>2018-11-19</th>\n",
       "      <td>-0.423904</td>\n",
       "      <td>1.086915</td>\n",
       "      <td>0.028076</td>\n",
       "      <td>0.296502</td>\n",
       "    </tr>\n",
       "    <tr>\n",
       "      <th>2018-11-20</th>\n",
       "      <td>0.298105</td>\n",
       "      <td>1.623140</td>\n",
       "      <td>0.855069</td>\n",
       "      <td>-0.916515</td>\n",
       "    </tr>\n",
       "    <tr>\n",
       "      <th>2018-11-21</th>\n",
       "      <td>0.114421</td>\n",
       "      <td>2.020899</td>\n",
       "      <td>1.670254</td>\n",
       "      <td>-0.985122</td>\n",
       "    </tr>\n",
       "    <tr>\n",
       "      <th>2018-11-22</th>\n",
       "      <td>0.564234</td>\n",
       "      <td>2.297282</td>\n",
       "      <td>2.634101</td>\n",
       "      <td>-1.205257</td>\n",
       "    </tr>\n",
       "    <tr>\n",
       "      <th>2018-11-23</th>\n",
       "      <td>0.467580</td>\n",
       "      <td>2.318836</td>\n",
       "      <td>1.919091</td>\n",
       "      <td>-2.657672</td>\n",
       "    </tr>\n",
       "    <tr>\n",
       "      <th>2018-11-24</th>\n",
       "      <td>1.997978</td>\n",
       "      <td>1.436348</td>\n",
       "      <td>2.565842</td>\n",
       "      <td>-4.314097</td>\n",
       "    </tr>\n",
       "    <tr>\n",
       "      <th>2018-11-25</th>\n",
       "      <td>1.239553</td>\n",
       "      <td>2.384913</td>\n",
       "      <td>3.661915</td>\n",
       "      <td>-3.571535</td>\n",
       "    </tr>\n",
       "    <tr>\n",
       "      <th>2018-11-26</th>\n",
       "      <td>1.926141</td>\n",
       "      <td>2.189671</td>\n",
       "      <td>3.583689</td>\n",
       "      <td>-3.571816</td>\n",
       "    </tr>\n",
       "    <tr>\n",
       "      <th>2018-11-27</th>\n",
       "      <td>2.297939</td>\n",
       "      <td>1.732773</td>\n",
       "      <td>3.631781</td>\n",
       "      <td>-4.079527</td>\n",
       "    </tr>\n",
       "    <tr>\n",
       "      <th>2018-11-28</th>\n",
       "      <td>1.221728</td>\n",
       "      <td>2.748290</td>\n",
       "      <td>1.842724</td>\n",
       "      <td>-3.044983</td>\n",
       "    </tr>\n",
       "    <tr>\n",
       "      <th>2018-11-29</th>\n",
       "      <td>1.864650</td>\n",
       "      <td>1.889972</td>\n",
       "      <td>1.518002</td>\n",
       "      <td>-1.526188</td>\n",
       "    </tr>\n",
       "    <tr>\n",
       "      <th>2018-11-30</th>\n",
       "      <td>1.172412</td>\n",
       "      <td>2.719688</td>\n",
       "      <td>1.525899</td>\n",
       "      <td>-1.332188</td>\n",
       "    </tr>\n",
       "    <tr>\n",
       "      <th>2018-12-01</th>\n",
       "      <td>0.287021</td>\n",
       "      <td>3.493645</td>\n",
       "      <td>1.292072</td>\n",
       "      <td>0.559824</td>\n",
       "    </tr>\n",
       "    <tr>\n",
       "      <th>2018-12-02</th>\n",
       "      <td>-0.856976</td>\n",
       "      <td>2.277587</td>\n",
       "      <td>3.123229</td>\n",
       "      <td>-1.168965</td>\n",
       "    </tr>\n",
       "    <tr>\n",
       "      <th>2018-12-03</th>\n",
       "      <td>-1.453722</td>\n",
       "      <td>4.052757</td>\n",
       "      <td>3.771248</td>\n",
       "      <td>-2.268268</td>\n",
       "    </tr>\n",
       "    <tr>\n",
       "      <th>2018-12-04</th>\n",
       "      <td>-1.785069</td>\n",
       "      <td>5.181892</td>\n",
       "      <td>4.847972</td>\n",
       "      <td>-1.298141</td>\n",
       "    </tr>\n",
       "    <tr>\n",
       "      <th>2018-12-05</th>\n",
       "      <td>-0.472194</td>\n",
       "      <td>6.736200</td>\n",
       "      <td>4.939752</td>\n",
       "      <td>-2.077474</td>\n",
       "    </tr>\n",
       "    <tr>\n",
       "      <th>2018-12-06</th>\n",
       "      <td>-0.222529</td>\n",
       "      <td>6.351045</td>\n",
       "      <td>6.693102</td>\n",
       "      <td>-0.850513</td>\n",
       "    </tr>\n",
       "    <tr>\n",
       "      <th>2018-12-07</th>\n",
       "      <td>-0.541156</td>\n",
       "      <td>9.253575</td>\n",
       "      <td>9.117614</td>\n",
       "      <td>-0.393749</td>\n",
       "    </tr>\n",
       "    <tr>\n",
       "      <th>2018-12-08</th>\n",
       "      <td>-0.350854</td>\n",
       "      <td>9.873756</td>\n",
       "      <td>10.458193</td>\n",
       "      <td>0.000984</td>\n",
       "    </tr>\n",
       "    <tr>\n",
       "      <th>2018-12-09</th>\n",
       "      <td>-0.074589</td>\n",
       "      <td>9.383870</td>\n",
       "      <td>10.390468</td>\n",
       "      <td>-0.018778</td>\n",
       "    </tr>\n",
       "    <tr>\n",
       "      <th>2018-12-10</th>\n",
       "      <td>0.892217</td>\n",
       "      <td>9.613246</td>\n",
       "      <td>10.529267</td>\n",
       "      <td>-0.706172</td>\n",
       "    </tr>\n",
       "    <tr>\n",
       "      <th>2018-12-11</th>\n",
       "      <td>-0.928144</td>\n",
       "      <td>9.874401</td>\n",
       "      <td>11.289609</td>\n",
       "      <td>-1.167610</td>\n",
       "    </tr>\n",
       "    <tr>\n",
       "      <th>2018-12-12</th>\n",
       "      <td>0.180274</td>\n",
       "      <td>10.246206</td>\n",
       "      <td>11.644864</td>\n",
       "      <td>-1.175150</td>\n",
       "    </tr>\n",
       "    <tr>\n",
       "      <th>2018-12-13</th>\n",
       "      <td>-1.679335</td>\n",
       "      <td>9.790799</td>\n",
       "      <td>11.854457</td>\n",
       "      <td>-0.271408</td>\n",
       "    </tr>\n",
       "    <tr>\n",
       "      <th>2018-12-14</th>\n",
       "      <td>-2.062068</td>\n",
       "      <td>11.423175</td>\n",
       "      <td>11.985588</td>\n",
       "      <td>0.153546</td>\n",
       "    </tr>\n",
       "    <tr>\n",
       "      <th>2018-12-15</th>\n",
       "      <td>-0.742582</td>\n",
       "      <td>10.856782</td>\n",
       "      <td>14.216550</td>\n",
       "      <td>-1.968947</td>\n",
       "    </tr>\n",
       "    <tr>\n",
       "      <th>2018-12-16</th>\n",
       "      <td>-0.935302</td>\n",
       "      <td>10.775083</td>\n",
       "      <td>15.007017</td>\n",
       "      <td>-1.764558</td>\n",
       "    </tr>\n",
       "    <tr>\n",
       "      <th>2018-12-17</th>\n",
       "      <td>-1.502082</td>\n",
       "      <td>9.550750</td>\n",
       "      <td>14.983054</td>\n",
       "      <td>-2.066844</td>\n",
       "    </tr>\n",
       "    <tr>\n",
       "      <th>2018-12-18</th>\n",
       "      <td>-1.734797</td>\n",
       "      <td>10.952888</td>\n",
       "      <td>15.538610</td>\n",
       "      <td>-1.710978</td>\n",
       "    </tr>\n",
       "    <tr>\n",
       "      <th>...</th>\n",
       "      <td>...</td>\n",
       "      <td>...</td>\n",
       "      <td>...</td>\n",
       "      <td>...</td>\n",
       "    </tr>\n",
       "    <tr>\n",
       "      <th>2021-07-16</th>\n",
       "      <td>41.509291</td>\n",
       "      <td>45.960925</td>\n",
       "      <td>81.578873</td>\n",
       "      <td>2.068650</td>\n",
       "    </tr>\n",
       "    <tr>\n",
       "      <th>2021-07-17</th>\n",
       "      <td>43.163899</td>\n",
       "      <td>47.469471</td>\n",
       "      <td>80.651515</td>\n",
       "      <td>1.192306</td>\n",
       "    </tr>\n",
       "    <tr>\n",
       "      <th>2021-07-18</th>\n",
       "      <td>42.819505</td>\n",
       "      <td>48.118163</td>\n",
       "      <td>80.837090</td>\n",
       "      <td>1.549829</td>\n",
       "    </tr>\n",
       "    <tr>\n",
       "      <th>2021-07-19</th>\n",
       "      <td>42.311668</td>\n",
       "      <td>48.434259</td>\n",
       "      <td>80.781877</td>\n",
       "      <td>0.274629</td>\n",
       "    </tr>\n",
       "    <tr>\n",
       "      <th>2021-07-20</th>\n",
       "      <td>41.782978</td>\n",
       "      <td>48.372198</td>\n",
       "      <td>80.307326</td>\n",
       "      <td>-0.106067</td>\n",
       "    </tr>\n",
       "    <tr>\n",
       "      <th>2021-07-21</th>\n",
       "      <td>41.456358</td>\n",
       "      <td>48.766399</td>\n",
       "      <td>80.788539</td>\n",
       "      <td>-1.402215</td>\n",
       "    </tr>\n",
       "    <tr>\n",
       "      <th>2021-07-22</th>\n",
       "      <td>41.225760</td>\n",
       "      <td>49.844010</td>\n",
       "      <td>81.534491</td>\n",
       "      <td>-1.198404</td>\n",
       "    </tr>\n",
       "    <tr>\n",
       "      <th>2021-07-23</th>\n",
       "      <td>41.524235</td>\n",
       "      <td>50.998386</td>\n",
       "      <td>82.298064</td>\n",
       "      <td>0.345766</td>\n",
       "    </tr>\n",
       "    <tr>\n",
       "      <th>2021-07-24</th>\n",
       "      <td>40.754862</td>\n",
       "      <td>51.585506</td>\n",
       "      <td>82.738128</td>\n",
       "      <td>1.446251</td>\n",
       "    </tr>\n",
       "    <tr>\n",
       "      <th>2021-07-25</th>\n",
       "      <td>41.373895</td>\n",
       "      <td>50.204692</td>\n",
       "      <td>81.762916</td>\n",
       "      <td>2.075774</td>\n",
       "    </tr>\n",
       "    <tr>\n",
       "      <th>2021-07-26</th>\n",
       "      <td>41.977494</td>\n",
       "      <td>50.868073</td>\n",
       "      <td>81.738715</td>\n",
       "      <td>2.367864</td>\n",
       "    </tr>\n",
       "    <tr>\n",
       "      <th>2021-07-27</th>\n",
       "      <td>41.675805</td>\n",
       "      <td>50.249934</td>\n",
       "      <td>79.779603</td>\n",
       "      <td>1.955136</td>\n",
       "    </tr>\n",
       "    <tr>\n",
       "      <th>2021-07-28</th>\n",
       "      <td>42.184191</td>\n",
       "      <td>50.951647</td>\n",
       "      <td>79.319789</td>\n",
       "      <td>2.193717</td>\n",
       "    </tr>\n",
       "    <tr>\n",
       "      <th>2021-07-29</th>\n",
       "      <td>42.777045</td>\n",
       "      <td>50.670907</td>\n",
       "      <td>78.645779</td>\n",
       "      <td>2.810204</td>\n",
       "    </tr>\n",
       "    <tr>\n",
       "      <th>2021-07-30</th>\n",
       "      <td>42.347855</td>\n",
       "      <td>50.747201</td>\n",
       "      <td>78.241102</td>\n",
       "      <td>4.134377</td>\n",
       "    </tr>\n",
       "    <tr>\n",
       "      <th>2021-07-31</th>\n",
       "      <td>44.555027</td>\n",
       "      <td>51.556260</td>\n",
       "      <td>77.235321</td>\n",
       "      <td>4.012777</td>\n",
       "    </tr>\n",
       "    <tr>\n",
       "      <th>2021-08-01</th>\n",
       "      <td>43.902479</td>\n",
       "      <td>52.706978</td>\n",
       "      <td>77.674855</td>\n",
       "      <td>4.439879</td>\n",
       "    </tr>\n",
       "    <tr>\n",
       "      <th>2021-08-02</th>\n",
       "      <td>43.269712</td>\n",
       "      <td>54.438279</td>\n",
       "      <td>78.618714</td>\n",
       "      <td>4.548761</td>\n",
       "    </tr>\n",
       "    <tr>\n",
       "      <th>2021-08-03</th>\n",
       "      <td>42.975948</td>\n",
       "      <td>55.519331</td>\n",
       "      <td>77.957419</td>\n",
       "      <td>2.741311</td>\n",
       "    </tr>\n",
       "    <tr>\n",
       "      <th>2021-08-04</th>\n",
       "      <td>42.252551</td>\n",
       "      <td>55.531576</td>\n",
       "      <td>78.463174</td>\n",
       "      <td>2.757493</td>\n",
       "    </tr>\n",
       "    <tr>\n",
       "      <th>2021-08-05</th>\n",
       "      <td>43.412407</td>\n",
       "      <td>55.827042</td>\n",
       "      <td>78.067502</td>\n",
       "      <td>1.846230</td>\n",
       "    </tr>\n",
       "    <tr>\n",
       "      <th>2021-08-06</th>\n",
       "      <td>41.641611</td>\n",
       "      <td>54.882374</td>\n",
       "      <td>77.126412</td>\n",
       "      <td>3.665732</td>\n",
       "    </tr>\n",
       "    <tr>\n",
       "      <th>2021-08-07</th>\n",
       "      <td>43.055055</td>\n",
       "      <td>55.274426</td>\n",
       "      <td>78.055675</td>\n",
       "      <td>2.237553</td>\n",
       "    </tr>\n",
       "    <tr>\n",
       "      <th>2021-08-08</th>\n",
       "      <td>43.977769</td>\n",
       "      <td>55.133642</td>\n",
       "      <td>77.430945</td>\n",
       "      <td>1.207033</td>\n",
       "    </tr>\n",
       "    <tr>\n",
       "      <th>2021-08-09</th>\n",
       "      <td>42.918153</td>\n",
       "      <td>54.598069</td>\n",
       "      <td>78.728846</td>\n",
       "      <td>2.246874</td>\n",
       "    </tr>\n",
       "    <tr>\n",
       "      <th>2021-08-10</th>\n",
       "      <td>43.076226</td>\n",
       "      <td>55.470894</td>\n",
       "      <td>77.609759</td>\n",
       "      <td>1.983781</td>\n",
       "    </tr>\n",
       "    <tr>\n",
       "      <th>2021-08-11</th>\n",
       "      <td>44.472146</td>\n",
       "      <td>55.446200</td>\n",
       "      <td>76.827010</td>\n",
       "      <td>2.525791</td>\n",
       "    </tr>\n",
       "    <tr>\n",
       "      <th>2021-08-12</th>\n",
       "      <td>43.568041</td>\n",
       "      <td>56.078349</td>\n",
       "      <td>74.877766</td>\n",
       "      <td>4.177463</td>\n",
       "    </tr>\n",
       "    <tr>\n",
       "      <th>2021-08-13</th>\n",
       "      <td>43.368955</td>\n",
       "      <td>55.804736</td>\n",
       "      <td>75.990600</td>\n",
       "      <td>3.000999</td>\n",
       "    </tr>\n",
       "    <tr>\n",
       "      <th>2021-08-14</th>\n",
       "      <td>43.873026</td>\n",
       "      <td>54.453715</td>\n",
       "      <td>76.066617</td>\n",
       "      <td>2.266525</td>\n",
       "    </tr>\n",
       "  </tbody>\n",
       "</table>\n",
       "<p>1000 rows × 4 columns</p>\n",
       "</div>"
      ],
      "text/plain": [
       "                    A          B          C         D\n",
       "2018-11-19  -0.423904   1.086915   0.028076  0.296502\n",
       "2018-11-20   0.298105   1.623140   0.855069 -0.916515\n",
       "2018-11-21   0.114421   2.020899   1.670254 -0.985122\n",
       "2018-11-22   0.564234   2.297282   2.634101 -1.205257\n",
       "2018-11-23   0.467580   2.318836   1.919091 -2.657672\n",
       "2018-11-24   1.997978   1.436348   2.565842 -4.314097\n",
       "2018-11-25   1.239553   2.384913   3.661915 -3.571535\n",
       "2018-11-26   1.926141   2.189671   3.583689 -3.571816\n",
       "2018-11-27   2.297939   1.732773   3.631781 -4.079527\n",
       "2018-11-28   1.221728   2.748290   1.842724 -3.044983\n",
       "2018-11-29   1.864650   1.889972   1.518002 -1.526188\n",
       "2018-11-30   1.172412   2.719688   1.525899 -1.332188\n",
       "2018-12-01   0.287021   3.493645   1.292072  0.559824\n",
       "2018-12-02  -0.856976   2.277587   3.123229 -1.168965\n",
       "2018-12-03  -1.453722   4.052757   3.771248 -2.268268\n",
       "2018-12-04  -1.785069   5.181892   4.847972 -1.298141\n",
       "2018-12-05  -0.472194   6.736200   4.939752 -2.077474\n",
       "2018-12-06  -0.222529   6.351045   6.693102 -0.850513\n",
       "2018-12-07  -0.541156   9.253575   9.117614 -0.393749\n",
       "2018-12-08  -0.350854   9.873756  10.458193  0.000984\n",
       "2018-12-09  -0.074589   9.383870  10.390468 -0.018778\n",
       "2018-12-10   0.892217   9.613246  10.529267 -0.706172\n",
       "2018-12-11  -0.928144   9.874401  11.289609 -1.167610\n",
       "2018-12-12   0.180274  10.246206  11.644864 -1.175150\n",
       "2018-12-13  -1.679335   9.790799  11.854457 -0.271408\n",
       "2018-12-14  -2.062068  11.423175  11.985588  0.153546\n",
       "2018-12-15  -0.742582  10.856782  14.216550 -1.968947\n",
       "2018-12-16  -0.935302  10.775083  15.007017 -1.764558\n",
       "2018-12-17  -1.502082   9.550750  14.983054 -2.066844\n",
       "2018-12-18  -1.734797  10.952888  15.538610 -1.710978\n",
       "...               ...        ...        ...       ...\n",
       "2021-07-16  41.509291  45.960925  81.578873  2.068650\n",
       "2021-07-17  43.163899  47.469471  80.651515  1.192306\n",
       "2021-07-18  42.819505  48.118163  80.837090  1.549829\n",
       "2021-07-19  42.311668  48.434259  80.781877  0.274629\n",
       "2021-07-20  41.782978  48.372198  80.307326 -0.106067\n",
       "2021-07-21  41.456358  48.766399  80.788539 -1.402215\n",
       "2021-07-22  41.225760  49.844010  81.534491 -1.198404\n",
       "2021-07-23  41.524235  50.998386  82.298064  0.345766\n",
       "2021-07-24  40.754862  51.585506  82.738128  1.446251\n",
       "2021-07-25  41.373895  50.204692  81.762916  2.075774\n",
       "2021-07-26  41.977494  50.868073  81.738715  2.367864\n",
       "2021-07-27  41.675805  50.249934  79.779603  1.955136\n",
       "2021-07-28  42.184191  50.951647  79.319789  2.193717\n",
       "2021-07-29  42.777045  50.670907  78.645779  2.810204\n",
       "2021-07-30  42.347855  50.747201  78.241102  4.134377\n",
       "2021-07-31  44.555027  51.556260  77.235321  4.012777\n",
       "2021-08-01  43.902479  52.706978  77.674855  4.439879\n",
       "2021-08-02  43.269712  54.438279  78.618714  4.548761\n",
       "2021-08-03  42.975948  55.519331  77.957419  2.741311\n",
       "2021-08-04  42.252551  55.531576  78.463174  2.757493\n",
       "2021-08-05  43.412407  55.827042  78.067502  1.846230\n",
       "2021-08-06  41.641611  54.882374  77.126412  3.665732\n",
       "2021-08-07  43.055055  55.274426  78.055675  2.237553\n",
       "2021-08-08  43.977769  55.133642  77.430945  1.207033\n",
       "2021-08-09  42.918153  54.598069  78.728846  2.246874\n",
       "2021-08-10  43.076226  55.470894  77.609759  1.983781\n",
       "2021-08-11  44.472146  55.446200  76.827010  2.525791\n",
       "2021-08-12  43.568041  56.078349  74.877766  4.177463\n",
       "2021-08-13  43.368955  55.804736  75.990600  3.000999\n",
       "2021-08-14  43.873026  54.453715  76.066617  2.266525\n",
       "\n",
       "[1000 rows x 4 columns]"
      ]
     },
     "execution_count": 14,
     "metadata": {},
     "output_type": "execute_result"
    }
   ],
   "source": [
    "df = pd.DataFrame(np.random.randn(1000, 4), index=ts.index,\n",
    "                  columns=['A', 'B', 'C', 'D'])\n",
    "df = df.cumsum()\n",
    "df"
   ]
  },
  {
   "cell_type": "code",
   "execution_count": 15,
   "metadata": {
    "ExecuteTime": {
     "end_time": "2018-11-19T15:21:06.623815Z",
     "start_time": "2018-11-19T15:21:06.301014Z"
    }
   },
   "outputs": [
    {
     "data": {
      "text/plain": [
       "<matplotlib.legend.Legend at 0x111d1d668>"
      ]
     },
     "execution_count": 15,
     "metadata": {},
     "output_type": "execute_result"
    },
    {
     "data": {
      "text/plain": [
       "<Figure size 432x288 with 0 Axes>"
      ]
     },
     "metadata": {},
     "output_type": "display_data"
    },
    {
     "data": {
      "image/png": "[encoded data removed]",
      "text/plain": [
       "<Figure size 432x288 with 1 Axes>"
      ]
     },
     "metadata": {},
     "output_type": "display_data"
    }
   ],
   "source": [
    "plt.figure(); df.plot(); plt.legend(loc='best')"
   ]
  },
  {
   "cell_type": "code",
   "execution_count": null,
   "metadata": {},
   "outputs": [],
   "source": []
  }
 ],
 "metadata": {
  "kernelspec": {
   "display_name": "Python 3",
   "language": "python",
   "name": "python3"
  },
  "language_info": {
   "codemirror_mode": {
    "name": "ipython",
    "version": 3
   },
   "file_extension": ".py",
   "mimetype": "text/x-python",
   "name": "python",
   "nbconvert_exporter": "python",
   "pygments_lexer": "ipython3",
   "version": "3.6.5"
  }
 },
 "nbformat": 4,
 "nbformat_minor": 2
}
